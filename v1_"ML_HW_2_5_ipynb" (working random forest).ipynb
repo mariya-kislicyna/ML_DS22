{
  "cells": [
    {
      "cell_type": "markdown",
      "metadata": {
        "id": "view-in-github",
        "colab_type": "text"
      },
      "source": [
        "<a href=\"https://colab.research.google.com/github/mariya-kislicyna/ML_DS22/blob/main/v1_%22ML_HW_2_5_ipynb%22%20(working%20random%20forest).ipynb\" target=\"_parent\"><img src=\"https://colab.research.google.com/assets/colab-badge.svg\" alt=\"Open In Colab\"/></a>"
      ]
    },
    {
      "cell_type": "code",
      "execution_count": 2,
      "metadata": {
        "id": "_na-LE1QVtAS"
      },
      "outputs": [],
      "source": [
        "%matplotlib inline\n",
        "from matplotlib import pyplot as plt\n",
        "\n",
        "plt.rcParams['figure.figsize'] = (10, 8)\n",
        "import collections\n",
        "\n",
        "from math import log\n",
        "import numpy as np\n",
        "import pandas as pd\n",
        "import seaborn as sns\n",
        "from sklearn import preprocessing\n",
        "from sklearn.ensemble import RandomForestClassifier\n",
        "from sklearn.metrics import accuracy_score\n",
        "from sklearn.model_selection import GridSearchCV\n",
        "from sklearn.preprocessing import LabelEncoder\n",
        "from sklearn.tree import DecisionTreeClassifier, export_graphviz"
      ]
    },
    {
      "cell_type": "code",
      "execution_count": 3,
      "metadata": {
        "id": "VQ_p4XAWV0kP"
      },
      "outputs": [],
      "source": [
        "balls = [1 for i in range(9)] + [0 for i in range(11)]"
      ]
    },
    {
      "cell_type": "code",
      "execution_count": 4,
      "metadata": {
        "id": "gbxzb2axV6pA"
      },
      "outputs": [],
      "source": [
        "# две группы\n",
        "balls_left  = [1 for i in range(8)] + [0 for i in range(5)] # 8 синих и 5 желтых\n",
        "balls_right = [1 for i in range(1)] + [0 for i in range(6)] # 1 синий и 6 желтых"
      ]
    },
    {
      "cell_type": "markdown",
      "metadata": {
        "id": "8BOJ2xH_Uy0d"
      },
      "source": [
        "![image.png](data:image/png;base64,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)"
      ]
    },
    {
      "cell_type": "code",
      "source": [
        "def entropy(a_list):\n",
        "    prob_dict = {x:a_list.count(x)/len(a_list) for x in a_list}\n",
        "    probs = np.array(list(prob_dict.values()))\n",
        "\n",
        "    return - probs.dot(np.log2(probs))\n",
        "    pass"
      ],
      "metadata": {
        "id": "Qox24W8qtYzq"
      },
      "execution_count": 74,
      "outputs": []
    },
    {
      "cell_type": "code",
      "source": [
        "print(entropy(balls)) # 9 синих и 11 желтых\n",
        "print(entropy(balls_left)) # 8 синих и 5 желтых\n",
        "print(entropy(balls_right)) # 1 синий и 6 желтых\n",
        "print(entropy([1,2,3,4,5,6]))"
      ],
      "metadata": {
        "colab": {
          "base_uri": "https://localhost:8080/"
        },
        "id": "nz6Z1pXutdk4",
        "outputId": "8caf467b-b8ee-4d18-c9c5-73740ec6dea9"
      },
      "execution_count": 76,
      "outputs": [
        {
          "output_type": "stream",
          "name": "stdout",
          "text": [
            "0.9927744539878084\n",
            "0.961236604722876\n",
            "0.5916727785823275\n",
            "2.584962500721156\n"
          ]
        }
      ]
    },
    {
      "cell_type": "markdown",
      "metadata": {
        "id": "ql15c_N7aD8N"
      },
      "source": [
        "Чему равна энтропия состояния, заданного списком balls_left? Ответ: 0.961236604722876\n",
        "\n",
        "Чему равна энтропия игральной кости с несмещенным центром тяжести? Ответ: 2.584962500721156"
      ]
    },
    {
      "cell_type": "code",
      "execution_count": 7,
      "metadata": {
        "id": "DDnWakatbAzw"
      },
      "outputs": [],
      "source": [
        "def information_gain(root, left, right):\n",
        "    ''' root - изначальный набор данных, left и right два разбиения изначального набора'''\n",
        "    \n",
        "    return entropy(root)- 1.0 * len(left)/len(root) * entropy(left) - 1.0 * len(right)/len(root) * entropy(right) \n",
        "    pass"
      ]
    },
    {
      "cell_type": "code",
      "execution_count": 8,
      "metadata": {
        "colab": {
          "base_uri": "https://localhost:8080/"
        },
        "id": "1k5zKq_WdDZP",
        "outputId": "1979f93e-e01e-4807-d8ae-450500cf5b46"
      },
      "outputs": [
        {
          "output_type": "stream",
          "name": "stdout",
          "text": [
            "0.16088518841412436\n"
          ]
        }
      ],
      "source": [
        "print(information_gain(balls, balls_left, balls_right))"
      ]
    },
    {
      "cell_type": "markdown",
      "metadata": {
        "id": "SwWKbLb0dElf"
      },
      "source": [
        "Каков прирост информации при разделении выборки на balls_left и balls_right? Ответ: 0.16088518841412436"
      ]
    },
    {
      "cell_type": "code",
      "execution_count": 9,
      "metadata": {
        "id": "CeDXcn6gdLS0"
      },
      "outputs": [],
      "source": [
        "def best_feature_to_split(X, y):\n",
        "    ''' Выводит прирост информации при разбиении по каждому признаку'''\n",
        "    \n",
        "    out = []\n",
        "    for i in X.columns:\n",
        "        out.append(information_gain(y,y[X[i]==0],y[X[i]==1]))\n",
        "    return out\n",
        "    pass"
      ]
    },
    {
      "cell_type": "code",
      "execution_count": 10,
      "metadata": {
        "id": "4zuS42XvdXXC"
      },
      "outputs": [],
      "source": [
        "#best_feature_to_split(balls, balls_left)"
      ]
    },
    {
      "cell_type": "code",
      "execution_count": 11,
      "metadata": {
        "colab": {
          "base_uri": "https://localhost:8080/",
          "height": 392
        },
        "id": "Ug0JXPkVEPKl",
        "outputId": "9dae6f32-dee0-4900-d049-c3c14a02d3e7"
      },
      "outputs": [
        {
          "output_type": "stream",
          "name": "stdout",
          "text": [
            "Mounted at /content/drive\n"
          ]
        },
        {
          "output_type": "execute_result",
          "data": {
            "text/plain": [
              "      Age      Workclass    fnlwgt   Education  Education_Num  \\\n",
              "16277  39        Private  215419.0   Bachelors           13.0   \n",
              "16278  64            NaN  321403.0     HS-grad            9.0   \n",
              "16279  38        Private  374983.0   Bachelors           13.0   \n",
              "16280  44        Private   83891.0   Bachelors           13.0   \n",
              "16281  35   Self-emp-inc  182148.0   Bachelors           13.0   \n",
              "\n",
              "            Martial_Status        Occupation     Relationship  \\\n",
              "16277             Divorced    Prof-specialty    Not-in-family   \n",
              "16278              Widowed               NaN   Other-relative   \n",
              "16279   Married-civ-spouse    Prof-specialty          Husband   \n",
              "16280             Divorced      Adm-clerical        Own-child   \n",
              "16281   Married-civ-spouse   Exec-managerial          Husband   \n",
              "\n",
              "                      Race      Sex  Capital_Gain  Capital_Loss  \\\n",
              "16277                White   Female           0.0           0.0   \n",
              "16278                Black     Male           0.0           0.0   \n",
              "16279                White     Male           0.0           0.0   \n",
              "16280   Asian-Pac-Islander     Male        5455.0           0.0   \n",
              "16281                White     Male           0.0           0.0   \n",
              "\n",
              "       Hours_per_week         Country   Target  \n",
              "16277            36.0   United-States   <=50K.  \n",
              "16278            40.0   United-States   <=50K.  \n",
              "16279            50.0   United-States   <=50K.  \n",
              "16280            40.0   United-States   <=50K.  \n",
              "16281            60.0   United-States    >50K.  "
            ],
            "text/html": [
              "\n",
              "  <div id=\"df-49cda5cb-b740-46f4-957e-123897036311\">\n",
              "    <div class=\"colab-df-container\">\n",
              "      <div>\n",
              "<style scoped>\n",
              "    .dataframe tbody tr th:only-of-type {\n",
              "        vertical-align: middle;\n",
              "    }\n",
              "\n",
              "    .dataframe tbody tr th {\n",
              "        vertical-align: top;\n",
              "    }\n",
              "\n",
              "    .dataframe thead th {\n",
              "        text-align: right;\n",
              "    }\n",
              "</style>\n",
              "<table border=\"1\" class=\"dataframe\">\n",
              "  <thead>\n",
              "    <tr style=\"text-align: right;\">\n",
              "      <th></th>\n",
              "      <th>Age</th>\n",
              "      <th>Workclass</th>\n",
              "      <th>fnlwgt</th>\n",
              "      <th>Education</th>\n",
              "      <th>Education_Num</th>\n",
              "      <th>Martial_Status</th>\n",
              "      <th>Occupation</th>\n",
              "      <th>Relationship</th>\n",
              "      <th>Race</th>\n",
              "      <th>Sex</th>\n",
              "      <th>Capital_Gain</th>\n",
              "      <th>Capital_Loss</th>\n",
              "      <th>Hours_per_week</th>\n",
              "      <th>Country</th>\n",
              "      <th>Target</th>\n",
              "    </tr>\n",
              "  </thead>\n",
              "  <tbody>\n",
              "    <tr>\n",
              "      <th>16277</th>\n",
              "      <td>39</td>\n",
              "      <td>Private</td>\n",
              "      <td>215419.0</td>\n",
              "      <td>Bachelors</td>\n",
              "      <td>13.0</td>\n",
              "      <td>Divorced</td>\n",
              "      <td>Prof-specialty</td>\n",
              "      <td>Not-in-family</td>\n",
              "      <td>White</td>\n",
              "      <td>Female</td>\n",
              "      <td>0.0</td>\n",
              "      <td>0.0</td>\n",
              "      <td>36.0</td>\n",
              "      <td>United-States</td>\n",
              "      <td>&lt;=50K.</td>\n",
              "    </tr>\n",
              "    <tr>\n",
              "      <th>16278</th>\n",
              "      <td>64</td>\n",
              "      <td>NaN</td>\n",
              "      <td>321403.0</td>\n",
              "      <td>HS-grad</td>\n",
              "      <td>9.0</td>\n",
              "      <td>Widowed</td>\n",
              "      <td>NaN</td>\n",
              "      <td>Other-relative</td>\n",
              "      <td>Black</td>\n",
              "      <td>Male</td>\n",
              "      <td>0.0</td>\n",
              "      <td>0.0</td>\n",
              "      <td>40.0</td>\n",
              "      <td>United-States</td>\n",
              "      <td>&lt;=50K.</td>\n",
              "    </tr>\n",
              "    <tr>\n",
              "      <th>16279</th>\n",
              "      <td>38</td>\n",
              "      <td>Private</td>\n",
              "      <td>374983.0</td>\n",
              "      <td>Bachelors</td>\n",
              "      <td>13.0</td>\n",
              "      <td>Married-civ-spouse</td>\n",
              "      <td>Prof-specialty</td>\n",
              "      <td>Husband</td>\n",
              "      <td>White</td>\n",
              "      <td>Male</td>\n",
              "      <td>0.0</td>\n",
              "      <td>0.0</td>\n",
              "      <td>50.0</td>\n",
              "      <td>United-States</td>\n",
              "      <td>&lt;=50K.</td>\n",
              "    </tr>\n",
              "    <tr>\n",
              "      <th>16280</th>\n",
              "      <td>44</td>\n",
              "      <td>Private</td>\n",
              "      <td>83891.0</td>\n",
              "      <td>Bachelors</td>\n",
              "      <td>13.0</td>\n",
              "      <td>Divorced</td>\n",
              "      <td>Adm-clerical</td>\n",
              "      <td>Own-child</td>\n",
              "      <td>Asian-Pac-Islander</td>\n",
              "      <td>Male</td>\n",
              "      <td>5455.0</td>\n",
              "      <td>0.0</td>\n",
              "      <td>40.0</td>\n",
              "      <td>United-States</td>\n",
              "      <td>&lt;=50K.</td>\n",
              "    </tr>\n",
              "    <tr>\n",
              "      <th>16281</th>\n",
              "      <td>35</td>\n",
              "      <td>Self-emp-inc</td>\n",
              "      <td>182148.0</td>\n",
              "      <td>Bachelors</td>\n",
              "      <td>13.0</td>\n",
              "      <td>Married-civ-spouse</td>\n",
              "      <td>Exec-managerial</td>\n",
              "      <td>Husband</td>\n",
              "      <td>White</td>\n",
              "      <td>Male</td>\n",
              "      <td>0.0</td>\n",
              "      <td>0.0</td>\n",
              "      <td>60.0</td>\n",
              "      <td>United-States</td>\n",
              "      <td>&gt;50K.</td>\n",
              "    </tr>\n",
              "  </tbody>\n",
              "</table>\n",
              "</div>\n",
              "      <button class=\"colab-df-convert\" onclick=\"convertToInteractive('df-49cda5cb-b740-46f4-957e-123897036311')\"\n",
              "              title=\"Convert this dataframe to an interactive table.\"\n",
              "              style=\"display:none;\">\n",
              "        \n",
              "  <svg xmlns=\"http://www.w3.org/2000/svg\" height=\"24px\"viewBox=\"0 0 24 24\"\n",
              "       width=\"24px\">\n",
              "    <path d=\"M0 0h24v24H0V0z\" fill=\"none\"/>\n",
              "    <path d=\"M18.56 5.44l.94 2.06.94-2.06 2.06-.94-2.06-.94-.94-2.06-.94 2.06-2.06.94zm-11 1L8.5 8.5l.94-2.06 2.06-.94-2.06-.94L8.5 2.5l-.94 2.06-2.06.94zm10 10l.94 2.06.94-2.06 2.06-.94-2.06-.94-.94-2.06-.94 2.06-2.06.94z\"/><path d=\"M17.41 7.96l-1.37-1.37c-.4-.4-.92-.59-1.43-.59-.52 0-1.04.2-1.43.59L10.3 9.45l-7.72 7.72c-.78.78-.78 2.05 0 2.83L4 21.41c.39.39.9.59 1.41.59.51 0 1.02-.2 1.41-.59l7.78-7.78 2.81-2.81c.8-.78.8-2.07 0-2.86zM5.41 20L4 18.59l7.72-7.72 1.47 1.35L5.41 20z\"/>\n",
              "  </svg>\n",
              "      </button>\n",
              "      \n",
              "  <style>\n",
              "    .colab-df-container {\n",
              "      display:flex;\n",
              "      flex-wrap:wrap;\n",
              "      gap: 12px;\n",
              "    }\n",
              "\n",
              "    .colab-df-convert {\n",
              "      background-color: #E8F0FE;\n",
              "      border: none;\n",
              "      border-radius: 50%;\n",
              "      cursor: pointer;\n",
              "      display: none;\n",
              "      fill: #1967D2;\n",
              "      height: 32px;\n",
              "      padding: 0 0 0 0;\n",
              "      width: 32px;\n",
              "    }\n",
              "\n",
              "    .colab-df-convert:hover {\n",
              "      background-color: #E2EBFA;\n",
              "      box-shadow: 0px 1px 2px rgba(60, 64, 67, 0.3), 0px 1px 3px 1px rgba(60, 64, 67, 0.15);\n",
              "      fill: #174EA6;\n",
              "    }\n",
              "\n",
              "    [theme=dark] .colab-df-convert {\n",
              "      background-color: #3B4455;\n",
              "      fill: #D2E3FC;\n",
              "    }\n",
              "\n",
              "    [theme=dark] .colab-df-convert:hover {\n",
              "      background-color: #434B5C;\n",
              "      box-shadow: 0px 1px 3px 1px rgba(0, 0, 0, 0.15);\n",
              "      filter: drop-shadow(0px 1px 2px rgba(0, 0, 0, 0.3));\n",
              "      fill: #FFFFFF;\n",
              "    }\n",
              "  </style>\n",
              "\n",
              "      <script>\n",
              "        const buttonEl =\n",
              "          document.querySelector('#df-49cda5cb-b740-46f4-957e-123897036311 button.colab-df-convert');\n",
              "        buttonEl.style.display =\n",
              "          google.colab.kernel.accessAllowed ? 'block' : 'none';\n",
              "\n",
              "        async function convertToInteractive(key) {\n",
              "          const element = document.querySelector('#df-49cda5cb-b740-46f4-957e-123897036311');\n",
              "          const dataTable =\n",
              "            await google.colab.kernel.invokeFunction('convertToInteractive',\n",
              "                                                     [key], {});\n",
              "          if (!dataTable) return;\n",
              "\n",
              "          const docLinkHtml = 'Like what you see? Visit the ' +\n",
              "            '<a target=\"_blank\" href=https://colab.research.google.com/notebooks/data_table.ipynb>data table notebook</a>'\n",
              "            + ' to learn more about interactive tables.';\n",
              "          element.innerHTML = '';\n",
              "          dataTable['output_type'] = 'display_data';\n",
              "          await google.colab.output.renderOutput(dataTable, element);\n",
              "          const docLink = document.createElement('div');\n",
              "          docLink.innerHTML = docLinkHtml;\n",
              "          element.appendChild(docLink);\n",
              "        }\n",
              "      </script>\n",
              "    </div>\n",
              "  </div>\n",
              "  "
            ]
          },
          "metadata": {},
          "execution_count": 11
        }
      ],
      "source": [
        "from google.colab import drive\n",
        "drive.mount('/content/drive')\n",
        "\n",
        "data_train = pd.read_csv(\"/content/drive/MyDrive/adult_train.csv\", sep=';') \n",
        "data_train.tail()\n",
        "\n",
        "data_test = pd.read_csv(\"/content/drive/MyDrive/adult_test.csv\", sep=';') \n",
        "data_test.tail()"
      ]
    },
    {
      "cell_type": "code",
      "execution_count": 12,
      "metadata": {
        "id": "j0sj9AjPEveO",
        "colab": {
          "base_uri": "https://localhost:8080/"
        },
        "outputId": "c4947dfb-0ccb-45b6-f193-3a56b094535b"
      },
      "outputs": [
        {
          "output_type": "stream",
          "name": "stderr",
          "text": [
            "/usr/local/lib/python3.8/dist-packages/pandas/core/indexing.py:1817: SettingWithCopyWarning: \n",
            "A value is trying to be set on a copy of a slice from a DataFrame.\n",
            "Try using .loc[row_indexer,col_indexer] = value instead\n",
            "\n",
            "See the caveats in the documentation: https://pandas.pydata.org/pandas-docs/stable/user_guide/indexing.html#returning-a-view-versus-a-copy\n",
            "  self._setitem_single_column(loc, value, pi)\n"
          ]
        }
      ],
      "source": [
        "# необходимо убрать строки с неправильными метками в тестовой выборке\n",
        "data_test = data_test[(data_test['Target'] == ' >50K.') \n",
        "                      | (data_test['Target']==' <=50K.')]\n",
        "\n",
        "# перекодируем target в числовое поле\n",
        "data_train.at[data_train['Target'] == ' <=50K', 'Target'] = 0\n",
        "data_train.at[data_train['Target'] == ' >50K', 'Target'] = 1\n",
        "\n",
        "data_test.at[data_test['Target'] == ' <=50K.', 'Target'] = 0\n",
        "data_test.at[data_test['Target'] == ' >50K.', 'Target'] = 1"
      ]
    },
    {
      "cell_type": "code",
      "execution_count": 13,
      "metadata": {
        "colab": {
          "base_uri": "https://localhost:8080/",
          "height": 520
        },
        "id": "gLhjJNUrE8t7",
        "outputId": "ad2a092b-fc93-4abb-998c-33fc55ed92c4"
      },
      "outputs": [
        {
          "output_type": "execute_result",
          "data": {
            "text/plain": [
              "                  count unique                  top     freq           mean  \\\n",
              "Age               16281     73                   35      461            NaN   \n",
              "Workclass         15318      8              Private    11210            NaN   \n",
              "fnlwgt          16281.0    NaN                  NaN      NaN  189435.677784   \n",
              "Education         16281     16              HS-grad     5283            NaN   \n",
              "Education_Num   16281.0    NaN                  NaN      NaN      10.072907   \n",
              "Martial_Status    16281      7   Married-civ-spouse     7403            NaN   \n",
              "Occupation        15315     14       Prof-specialty     2032            NaN   \n",
              "Relationship      16281      6              Husband     6523            NaN   \n",
              "Race              16281      5                White    13946            NaN   \n",
              "Sex               16281      2                 Male    10860            NaN   \n",
              "Capital_Gain    16281.0    NaN                  NaN      NaN    1081.905104   \n",
              "Capital_Loss    16281.0    NaN                  NaN      NaN      87.899269   \n",
              "Hours_per_week  16281.0    NaN                  NaN      NaN      40.392236   \n",
              "Country           16007     40        United-States    14662            NaN   \n",
              "Target          16281.0    2.0                  0.0  12435.0            NaN   \n",
              "\n",
              "                          std      min       25%       50%       75%  \\\n",
              "Age                       NaN      NaN       NaN       NaN       NaN   \n",
              "Workclass                 NaN      NaN       NaN       NaN       NaN   \n",
              "fnlwgt          105714.907671  13492.0  116736.0  177831.0  238384.0   \n",
              "Education                 NaN      NaN       NaN       NaN       NaN   \n",
              "Education_Num        2.567545      1.0       9.0      10.0      12.0   \n",
              "Martial_Status            NaN      NaN       NaN       NaN       NaN   \n",
              "Occupation                NaN      NaN       NaN       NaN       NaN   \n",
              "Relationship              NaN      NaN       NaN       NaN       NaN   \n",
              "Race                      NaN      NaN       NaN       NaN       NaN   \n",
              "Sex                       NaN      NaN       NaN       NaN       NaN   \n",
              "Capital_Gain      7583.935968      0.0       0.0       0.0       0.0   \n",
              "Capital_Loss       403.105286      0.0       0.0       0.0       0.0   \n",
              "Hours_per_week      12.479332      1.0      40.0      40.0      45.0   \n",
              "Country                   NaN      NaN       NaN       NaN       NaN   \n",
              "Target                    NaN      NaN       NaN       NaN       NaN   \n",
              "\n",
              "                      max  \n",
              "Age                   NaN  \n",
              "Workclass             NaN  \n",
              "fnlwgt          1490400.0  \n",
              "Education             NaN  \n",
              "Education_Num        16.0  \n",
              "Martial_Status        NaN  \n",
              "Occupation            NaN  \n",
              "Relationship          NaN  \n",
              "Race                  NaN  \n",
              "Sex                   NaN  \n",
              "Capital_Gain      99999.0  \n",
              "Capital_Loss       3770.0  \n",
              "Hours_per_week       99.0  \n",
              "Country               NaN  \n",
              "Target                NaN  "
            ],
            "text/html": [
              "\n",
              "  <div id=\"df-9055dd64-b05f-445e-b58f-bc8e6ece7850\">\n",
              "    <div class=\"colab-df-container\">\n",
              "      <div>\n",
              "<style scoped>\n",
              "    .dataframe tbody tr th:only-of-type {\n",
              "        vertical-align: middle;\n",
              "    }\n",
              "\n",
              "    .dataframe tbody tr th {\n",
              "        vertical-align: top;\n",
              "    }\n",
              "\n",
              "    .dataframe thead th {\n",
              "        text-align: right;\n",
              "    }\n",
              "</style>\n",
              "<table border=\"1\" class=\"dataframe\">\n",
              "  <thead>\n",
              "    <tr style=\"text-align: right;\">\n",
              "      <th></th>\n",
              "      <th>count</th>\n",
              "      <th>unique</th>\n",
              "      <th>top</th>\n",
              "      <th>freq</th>\n",
              "      <th>mean</th>\n",
              "      <th>std</th>\n",
              "      <th>min</th>\n",
              "      <th>25%</th>\n",
              "      <th>50%</th>\n",
              "      <th>75%</th>\n",
              "      <th>max</th>\n",
              "    </tr>\n",
              "  </thead>\n",
              "  <tbody>\n",
              "    <tr>\n",
              "      <th>Age</th>\n",
              "      <td>16281</td>\n",
              "      <td>73</td>\n",
              "      <td>35</td>\n",
              "      <td>461</td>\n",
              "      <td>NaN</td>\n",
              "      <td>NaN</td>\n",
              "      <td>NaN</td>\n",
              "      <td>NaN</td>\n",
              "      <td>NaN</td>\n",
              "      <td>NaN</td>\n",
              "      <td>NaN</td>\n",
              "    </tr>\n",
              "    <tr>\n",
              "      <th>Workclass</th>\n",
              "      <td>15318</td>\n",
              "      <td>8</td>\n",
              "      <td>Private</td>\n",
              "      <td>11210</td>\n",
              "      <td>NaN</td>\n",
              "      <td>NaN</td>\n",
              "      <td>NaN</td>\n",
              "      <td>NaN</td>\n",
              "      <td>NaN</td>\n",
              "      <td>NaN</td>\n",
              "      <td>NaN</td>\n",
              "    </tr>\n",
              "    <tr>\n",
              "      <th>fnlwgt</th>\n",
              "      <td>16281.0</td>\n",
              "      <td>NaN</td>\n",
              "      <td>NaN</td>\n",
              "      <td>NaN</td>\n",
              "      <td>189435.677784</td>\n",
              "      <td>105714.907671</td>\n",
              "      <td>13492.0</td>\n",
              "      <td>116736.0</td>\n",
              "      <td>177831.0</td>\n",
              "      <td>238384.0</td>\n",
              "      <td>1490400.0</td>\n",
              "    </tr>\n",
              "    <tr>\n",
              "      <th>Education</th>\n",
              "      <td>16281</td>\n",
              "      <td>16</td>\n",
              "      <td>HS-grad</td>\n",
              "      <td>5283</td>\n",
              "      <td>NaN</td>\n",
              "      <td>NaN</td>\n",
              "      <td>NaN</td>\n",
              "      <td>NaN</td>\n",
              "      <td>NaN</td>\n",
              "      <td>NaN</td>\n",
              "      <td>NaN</td>\n",
              "    </tr>\n",
              "    <tr>\n",
              "      <th>Education_Num</th>\n",
              "      <td>16281.0</td>\n",
              "      <td>NaN</td>\n",
              "      <td>NaN</td>\n",
              "      <td>NaN</td>\n",
              "      <td>10.072907</td>\n",
              "      <td>2.567545</td>\n",
              "      <td>1.0</td>\n",
              "      <td>9.0</td>\n",
              "      <td>10.0</td>\n",
              "      <td>12.0</td>\n",
              "      <td>16.0</td>\n",
              "    </tr>\n",
              "    <tr>\n",
              "      <th>Martial_Status</th>\n",
              "      <td>16281</td>\n",
              "      <td>7</td>\n",
              "      <td>Married-civ-spouse</td>\n",
              "      <td>7403</td>\n",
              "      <td>NaN</td>\n",
              "      <td>NaN</td>\n",
              "      <td>NaN</td>\n",
              "      <td>NaN</td>\n",
              "      <td>NaN</td>\n",
              "      <td>NaN</td>\n",
              "      <td>NaN</td>\n",
              "    </tr>\n",
              "    <tr>\n",
              "      <th>Occupation</th>\n",
              "      <td>15315</td>\n",
              "      <td>14</td>\n",
              "      <td>Prof-specialty</td>\n",
              "      <td>2032</td>\n",
              "      <td>NaN</td>\n",
              "      <td>NaN</td>\n",
              "      <td>NaN</td>\n",
              "      <td>NaN</td>\n",
              "      <td>NaN</td>\n",
              "      <td>NaN</td>\n",
              "      <td>NaN</td>\n",
              "    </tr>\n",
              "    <tr>\n",
              "      <th>Relationship</th>\n",
              "      <td>16281</td>\n",
              "      <td>6</td>\n",
              "      <td>Husband</td>\n",
              "      <td>6523</td>\n",
              "      <td>NaN</td>\n",
              "      <td>NaN</td>\n",
              "      <td>NaN</td>\n",
              "      <td>NaN</td>\n",
              "      <td>NaN</td>\n",
              "      <td>NaN</td>\n",
              "      <td>NaN</td>\n",
              "    </tr>\n",
              "    <tr>\n",
              "      <th>Race</th>\n",
              "      <td>16281</td>\n",
              "      <td>5</td>\n",
              "      <td>White</td>\n",
              "      <td>13946</td>\n",
              "      <td>NaN</td>\n",
              "      <td>NaN</td>\n",
              "      <td>NaN</td>\n",
              "      <td>NaN</td>\n",
              "      <td>NaN</td>\n",
              "      <td>NaN</td>\n",
              "      <td>NaN</td>\n",
              "    </tr>\n",
              "    <tr>\n",
              "      <th>Sex</th>\n",
              "      <td>16281</td>\n",
              "      <td>2</td>\n",
              "      <td>Male</td>\n",
              "      <td>10860</td>\n",
              "      <td>NaN</td>\n",
              "      <td>NaN</td>\n",
              "      <td>NaN</td>\n",
              "      <td>NaN</td>\n",
              "      <td>NaN</td>\n",
              "      <td>NaN</td>\n",
              "      <td>NaN</td>\n",
              "    </tr>\n",
              "    <tr>\n",
              "      <th>Capital_Gain</th>\n",
              "      <td>16281.0</td>\n",
              "      <td>NaN</td>\n",
              "      <td>NaN</td>\n",
              "      <td>NaN</td>\n",
              "      <td>1081.905104</td>\n",
              "      <td>7583.935968</td>\n",
              "      <td>0.0</td>\n",
              "      <td>0.0</td>\n",
              "      <td>0.0</td>\n",
              "      <td>0.0</td>\n",
              "      <td>99999.0</td>\n",
              "    </tr>\n",
              "    <tr>\n",
              "      <th>Capital_Loss</th>\n",
              "      <td>16281.0</td>\n",
              "      <td>NaN</td>\n",
              "      <td>NaN</td>\n",
              "      <td>NaN</td>\n",
              "      <td>87.899269</td>\n",
              "      <td>403.105286</td>\n",
              "      <td>0.0</td>\n",
              "      <td>0.0</td>\n",
              "      <td>0.0</td>\n",
              "      <td>0.0</td>\n",
              "      <td>3770.0</td>\n",
              "    </tr>\n",
              "    <tr>\n",
              "      <th>Hours_per_week</th>\n",
              "      <td>16281.0</td>\n",
              "      <td>NaN</td>\n",
              "      <td>NaN</td>\n",
              "      <td>NaN</td>\n",
              "      <td>40.392236</td>\n",
              "      <td>12.479332</td>\n",
              "      <td>1.0</td>\n",
              "      <td>40.0</td>\n",
              "      <td>40.0</td>\n",
              "      <td>45.0</td>\n",
              "      <td>99.0</td>\n",
              "    </tr>\n",
              "    <tr>\n",
              "      <th>Country</th>\n",
              "      <td>16007</td>\n",
              "      <td>40</td>\n",
              "      <td>United-States</td>\n",
              "      <td>14662</td>\n",
              "      <td>NaN</td>\n",
              "      <td>NaN</td>\n",
              "      <td>NaN</td>\n",
              "      <td>NaN</td>\n",
              "      <td>NaN</td>\n",
              "      <td>NaN</td>\n",
              "      <td>NaN</td>\n",
              "    </tr>\n",
              "    <tr>\n",
              "      <th>Target</th>\n",
              "      <td>16281.0</td>\n",
              "      <td>2.0</td>\n",
              "      <td>0.0</td>\n",
              "      <td>12435.0</td>\n",
              "      <td>NaN</td>\n",
              "      <td>NaN</td>\n",
              "      <td>NaN</td>\n",
              "      <td>NaN</td>\n",
              "      <td>NaN</td>\n",
              "      <td>NaN</td>\n",
              "      <td>NaN</td>\n",
              "    </tr>\n",
              "  </tbody>\n",
              "</table>\n",
              "</div>\n",
              "      <button class=\"colab-df-convert\" onclick=\"convertToInteractive('df-9055dd64-b05f-445e-b58f-bc8e6ece7850')\"\n",
              "              title=\"Convert this dataframe to an interactive table.\"\n",
              "              style=\"display:none;\">\n",
              "        \n",
              "  <svg xmlns=\"http://www.w3.org/2000/svg\" height=\"24px\"viewBox=\"0 0 24 24\"\n",
              "       width=\"24px\">\n",
              "    <path d=\"M0 0h24v24H0V0z\" fill=\"none\"/>\n",
              "    <path d=\"M18.56 5.44l.94 2.06.94-2.06 2.06-.94-2.06-.94-.94-2.06-.94 2.06-2.06.94zm-11 1L8.5 8.5l.94-2.06 2.06-.94-2.06-.94L8.5 2.5l-.94 2.06-2.06.94zm10 10l.94 2.06.94-2.06 2.06-.94-2.06-.94-.94-2.06-.94 2.06-2.06.94z\"/><path d=\"M17.41 7.96l-1.37-1.37c-.4-.4-.92-.59-1.43-.59-.52 0-1.04.2-1.43.59L10.3 9.45l-7.72 7.72c-.78.78-.78 2.05 0 2.83L4 21.41c.39.39.9.59 1.41.59.51 0 1.02-.2 1.41-.59l7.78-7.78 2.81-2.81c.8-.78.8-2.07 0-2.86zM5.41 20L4 18.59l7.72-7.72 1.47 1.35L5.41 20z\"/>\n",
              "  </svg>\n",
              "      </button>\n",
              "      \n",
              "  <style>\n",
              "    .colab-df-container {\n",
              "      display:flex;\n",
              "      flex-wrap:wrap;\n",
              "      gap: 12px;\n",
              "    }\n",
              "\n",
              "    .colab-df-convert {\n",
              "      background-color: #E8F0FE;\n",
              "      border: none;\n",
              "      border-radius: 50%;\n",
              "      cursor: pointer;\n",
              "      display: none;\n",
              "      fill: #1967D2;\n",
              "      height: 32px;\n",
              "      padding: 0 0 0 0;\n",
              "      width: 32px;\n",
              "    }\n",
              "\n",
              "    .colab-df-convert:hover {\n",
              "      background-color: #E2EBFA;\n",
              "      box-shadow: 0px 1px 2px rgba(60, 64, 67, 0.3), 0px 1px 3px 1px rgba(60, 64, 67, 0.15);\n",
              "      fill: #174EA6;\n",
              "    }\n",
              "\n",
              "    [theme=dark] .colab-df-convert {\n",
              "      background-color: #3B4455;\n",
              "      fill: #D2E3FC;\n",
              "    }\n",
              "\n",
              "    [theme=dark] .colab-df-convert:hover {\n",
              "      background-color: #434B5C;\n",
              "      box-shadow: 0px 1px 3px 1px rgba(0, 0, 0, 0.15);\n",
              "      filter: drop-shadow(0px 1px 2px rgba(0, 0, 0, 0.3));\n",
              "      fill: #FFFFFF;\n",
              "    }\n",
              "  </style>\n",
              "\n",
              "      <script>\n",
              "        const buttonEl =\n",
              "          document.querySelector('#df-9055dd64-b05f-445e-b58f-bc8e6ece7850 button.colab-df-convert');\n",
              "        buttonEl.style.display =\n",
              "          google.colab.kernel.accessAllowed ? 'block' : 'none';\n",
              "\n",
              "        async function convertToInteractive(key) {\n",
              "          const element = document.querySelector('#df-9055dd64-b05f-445e-b58f-bc8e6ece7850');\n",
              "          const dataTable =\n",
              "            await google.colab.kernel.invokeFunction('convertToInteractive',\n",
              "                                                     [key], {});\n",
              "          if (!dataTable) return;\n",
              "\n",
              "          const docLinkHtml = 'Like what you see? Visit the ' +\n",
              "            '<a target=\"_blank\" href=https://colab.research.google.com/notebooks/data_table.ipynb>data table notebook</a>'\n",
              "            + ' to learn more about interactive tables.';\n",
              "          element.innerHTML = '';\n",
              "          dataTable['output_type'] = 'display_data';\n",
              "          await google.colab.output.renderOutput(dataTable, element);\n",
              "          const docLink = document.createElement('div');\n",
              "          docLink.innerHTML = docLinkHtml;\n",
              "          element.appendChild(docLink);\n",
              "        }\n",
              "      </script>\n",
              "    </div>\n",
              "  </div>\n",
              "  "
            ]
          },
          "metadata": {},
          "execution_count": 13
        }
      ],
      "source": [
        "data_test.describe(include='all').T"
      ]
    },
    {
      "cell_type": "code",
      "execution_count": 14,
      "metadata": {
        "colab": {
          "base_uri": "https://localhost:8080/"
        },
        "id": "QvEg2-x2FKoY",
        "outputId": "c6cf82b8-9489-4faf-f553-71e2ade18a5b"
      },
      "outputs": [
        {
          "output_type": "execute_result",
          "data": {
            "text/plain": [
              "0    24720\n",
              "1     7841\n",
              "Name: Target, dtype: int64"
            ]
          },
          "metadata": {},
          "execution_count": 14
        }
      ],
      "source": [
        "data_train['Target'].value_counts()"
      ]
    },
    {
      "cell_type": "code",
      "execution_count": 15,
      "metadata": {
        "colab": {
          "base_uri": "https://localhost:8080/",
          "height": 1000
        },
        "id": "MJ-XrSc_FO6o",
        "outputId": "869a3068-c780-4715-a2eb-aea8334e2a02"
      },
      "outputs": [
        {
          "output_type": "stream",
          "name": "stderr",
          "text": [
            "<ipython-input-15-ef35fa5cb270>:7: DeprecationWarning: `np.object` is a deprecated alias for the builtin `object`. To silence this warning, use `object` by itself. Doing this will not modify any behavior and is safe. \n",
            "Deprecated in NumPy 1.20; for more details and guidance: https://numpy.org/devdocs/release/1.20.0-notes.html#deprecations\n",
            "  if data_train.dtypes[column] == np.object:\n",
            "<ipython-input-15-ef35fa5cb270>:7: DeprecationWarning: `np.object` is a deprecated alias for the builtin `object`. To silence this warning, use `object` by itself. Doing this will not modify any behavior and is safe. \n",
            "Deprecated in NumPy 1.20; for more details and guidance: https://numpy.org/devdocs/release/1.20.0-notes.html#deprecations\n",
            "  if data_train.dtypes[column] == np.object:\n",
            "<ipython-input-15-ef35fa5cb270>:7: DeprecationWarning: `np.object` is a deprecated alias for the builtin `object`. To silence this warning, use `object` by itself. Doing this will not modify any behavior and is safe. \n",
            "Deprecated in NumPy 1.20; for more details and guidance: https://numpy.org/devdocs/release/1.20.0-notes.html#deprecations\n",
            "  if data_train.dtypes[column] == np.object:\n",
            "<ipython-input-15-ef35fa5cb270>:7: DeprecationWarning: `np.object` is a deprecated alias for the builtin `object`. To silence this warning, use `object` by itself. Doing this will not modify any behavior and is safe. \n",
            "Deprecated in NumPy 1.20; for more details and guidance: https://numpy.org/devdocs/release/1.20.0-notes.html#deprecations\n",
            "  if data_train.dtypes[column] == np.object:\n",
            "<ipython-input-15-ef35fa5cb270>:7: DeprecationWarning: `np.object` is a deprecated alias for the builtin `object`. To silence this warning, use `object` by itself. Doing this will not modify any behavior and is safe. \n",
            "Deprecated in NumPy 1.20; for more details and guidance: https://numpy.org/devdocs/release/1.20.0-notes.html#deprecations\n",
            "  if data_train.dtypes[column] == np.object:\n",
            "<ipython-input-15-ef35fa5cb270>:7: DeprecationWarning: `np.object` is a deprecated alias for the builtin `object`. To silence this warning, use `object` by itself. Doing this will not modify any behavior and is safe. \n",
            "Deprecated in NumPy 1.20; for more details and guidance: https://numpy.org/devdocs/release/1.20.0-notes.html#deprecations\n",
            "  if data_train.dtypes[column] == np.object:\n",
            "<ipython-input-15-ef35fa5cb270>:7: DeprecationWarning: `np.object` is a deprecated alias for the builtin `object`. To silence this warning, use `object` by itself. Doing this will not modify any behavior and is safe. \n",
            "Deprecated in NumPy 1.20; for more details and guidance: https://numpy.org/devdocs/release/1.20.0-notes.html#deprecations\n",
            "  if data_train.dtypes[column] == np.object:\n",
            "<ipython-input-15-ef35fa5cb270>:7: DeprecationWarning: `np.object` is a deprecated alias for the builtin `object`. To silence this warning, use `object` by itself. Doing this will not modify any behavior and is safe. \n",
            "Deprecated in NumPy 1.20; for more details and guidance: https://numpy.org/devdocs/release/1.20.0-notes.html#deprecations\n",
            "  if data_train.dtypes[column] == np.object:\n",
            "<ipython-input-15-ef35fa5cb270>:7: DeprecationWarning: `np.object` is a deprecated alias for the builtin `object`. To silence this warning, use `object` by itself. Doing this will not modify any behavior and is safe. \n",
            "Deprecated in NumPy 1.20; for more details and guidance: https://numpy.org/devdocs/release/1.20.0-notes.html#deprecations\n",
            "  if data_train.dtypes[column] == np.object:\n"
          ]
        },
        {
          "output_type": "display_data",
          "data": {
            "text/plain": [
              "<Figure size 1800x1080 with 15 Axes>"
            ],
            "image/png": "[encoded data removed]"
          },
          "metadata": {
            "needs_background": "light"
          }
        }
      ],
      "source": [
        "fig = plt.figure(figsize=(25, 15))\n",
        "cols = 5\n",
        "rows = np.ceil(float(data_train.shape[1]) / cols)\n",
        "for i, column in enumerate(data_train.columns):\n",
        "    ax = fig.add_subplot(rows, cols, i + 1)\n",
        "    ax.set_title(column)\n",
        "    if data_train.dtypes[column] == np.object:\n",
        "        data_train[column].value_counts().plot(kind=\"bar\", axes=ax)\n",
        "    else:\n",
        "        data_train[column].hist(axes=ax)\n",
        "        plt.xticks(rotation=\"vertical\")\n",
        "plt.subplots_adjust(hspace=0.7, wspace=0.2)"
      ]
    },
    {
      "cell_type": "code",
      "execution_count": 16,
      "metadata": {
        "colab": {
          "base_uri": "https://localhost:8080/"
        },
        "id": "tXjab1c0FcMj",
        "outputId": "c3a7c71f-9443-49ce-fdc0-a32421848df0"
      },
      "outputs": [
        {
          "output_type": "execute_result",
          "data": {
            "text/plain": [
              "Age                int64\n",
              "Workclass         object\n",
              "fnlwgt             int64\n",
              "Education         object\n",
              "Education_Num      int64\n",
              "Martial_Status    object\n",
              "Occupation        object\n",
              "Relationship      object\n",
              "Race              object\n",
              "Sex               object\n",
              "Capital_Gain       int64\n",
              "Capital_Loss       int64\n",
              "Hours_per_week     int64\n",
              "Country           object\n",
              "Target            object\n",
              "dtype: object"
            ]
          },
          "metadata": {},
          "execution_count": 16
        }
      ],
      "source": [
        "data_train.dtypes"
      ]
    },
    {
      "cell_type": "code",
      "execution_count": null,
      "metadata": {
        "id": "IHpveps7Fjdt"
      },
      "outputs": [],
      "source": [
        "data_test.dtypes"
      ]
    },
    {
      "cell_type": "code",
      "execution_count": 17,
      "metadata": {
        "id": "1ECpcNsVFnTG"
      },
      "outputs": [],
      "source": [
        "data_test['Age'] = data_test['Age'].astype(int)"
      ]
    },
    {
      "cell_type": "code",
      "execution_count": 18,
      "metadata": {
        "id": "vUUwrNI5Fq1U"
      },
      "outputs": [],
      "source": [
        "data_test['fnlwgt'] = data_test['fnlwgt'].astype(int)\n",
        "data_test['Education_Num'] = data_test['Education_Num'].astype(int)\n",
        "data_test['Capital_Gain'] = data_test['Capital_Gain'].astype(int)\n",
        "data_test['Capital_Loss'] = data_test['Capital_Loss'].astype(int)\n",
        "data_test['Hours_per_week'] = data_test['Hours_per_week'].astype(int)"
      ]
    },
    {
      "cell_type": "code",
      "execution_count": 19,
      "metadata": {
        "colab": {
          "base_uri": "https://localhost:8080/"
        },
        "id": "Np2flhBSF9C-",
        "outputId": "d770621a-b0e4-45dd-9da3-7e51361a20cf"
      },
      "outputs": [
        {
          "output_type": "stream",
          "name": "stdout",
          "text": [
            "categorical_columns_test: ['Workclass', 'Education', 'Martial_Status', 'Occupation', 'Relationship', 'Race', 'Sex', 'Country', 'Target']\n",
            "categorical_columns_train: ['Workclass', 'Education', 'Martial_Status', 'Occupation', 'Relationship', 'Race', 'Sex', 'Country', 'Target']\n",
            "numerical_columns_test: ['Age', 'fnlwgt', 'Education_Num', 'Capital_Gain', 'Capital_Loss', 'Hours_per_week']\n",
            "numerical_columns_train: ['Age', 'fnlwgt', 'Education_Num', 'Capital_Gain', 'Capital_Loss', 'Hours_per_week']\n"
          ]
        }
      ],
      "source": [
        "# выделим в выборках категориальные и числовые поля\n",
        "\n",
        "categorical_columns_train = [c for c in data_train.columns \n",
        "                             if data_train[c].dtype.name == 'object']\n",
        "numerical_columns_train = [c for c in data_train.columns \n",
        "                           if data_train[c].dtype.name != 'object']\n",
        "\n",
        "categorical_columns_test = [c for c in data_test.columns \n",
        "                            if data_test[c].dtype.name == 'object']\n",
        "numerical_columns_test = [c for c in data_test.columns \n",
        "                          if data_test[c].dtype.name != 'object']\n",
        "\n",
        "print('categorical_columns_test:', categorical_columns_test)\n",
        "print('categorical_columns_train:', categorical_columns_train)\n",
        "print('numerical_columns_test:', numerical_columns_test)\n",
        "print('numerical_columns_train:', numerical_columns_train)"
      ]
    },
    {
      "cell_type": "code",
      "execution_count": 20,
      "metadata": {
        "id": "K8VQMGDTGE4i"
      },
      "outputs": [],
      "source": [
        "# заполним пропуски\n",
        "\n",
        "for c in categorical_columns_train:\n",
        "    data_train[c] = data_train[c].fillna(data_train[c].mode())\n",
        "for c in categorical_columns_test:\n",
        "    data_test[c] = data_test[c].fillna(data_train[c].mode())\n",
        "    \n",
        "for c in numerical_columns_train:\n",
        "    data_train[c] = data_train[c].fillna(data_train[c].median())\n",
        "for c in numerical_columns_test:\n",
        "    data_test[c] = data_test[c].fillna(data_train[c].median())    "
      ]
    },
    {
      "cell_type": "code",
      "execution_count": 21,
      "metadata": {
        "id": "Piyt7VtyGLK1"
      },
      "outputs": [],
      "source": [
        "data_train = pd.concat([data_train, pd.get_dummies(data_train['Workclass'], \n",
        "                                                   prefix=\"Workclass\"),\n",
        "                      pd.get_dummies(data_train['Education'], prefix=\"Education\"),\n",
        "                      pd.get_dummies(data_train['Martial_Status'], prefix=\"Martial_Status\"),\n",
        "                      pd.get_dummies(data_train['Occupation'], prefix=\"Occupation\"),\n",
        "                      pd.get_dummies(data_train['Relationship'], prefix=\"Relationship\"),\n",
        "                      pd.get_dummies(data_train['Race'], prefix=\"Race\"),\n",
        "                      pd.get_dummies(data_train['Sex'], prefix=\"Sex\"),\n",
        "                      pd.get_dummies(data_train['Country'], prefix=\"Country\")],\n",
        "                     axis=1)\n",
        "\n",
        "data_test = pd.concat([data_test, pd.get_dummies(data_test['Workclass'], prefix=\"Workclass\"),\n",
        "                      pd.get_dummies(data_test['Education'], prefix=\"Education\"),\n",
        "                      pd.get_dummies(data_test['Martial_Status'], prefix=\"Martial_Status\"),\n",
        "                      pd.get_dummies(data_test['Occupation'], prefix=\"Occupation\"),\n",
        "                      pd.get_dummies(data_test['Relationship'], prefix=\"Relationship\"),\n",
        "                      pd.get_dummies(data_test['Race'], prefix=\"Race\"),\n",
        "                      pd.get_dummies(data_test['Sex'], prefix=\"Sex\"),\n",
        "                      pd.get_dummies(data_test['Country'], prefix=\"Country\")],\n",
        "                     axis=1)"
      ]
    },
    {
      "cell_type": "code",
      "execution_count": 22,
      "metadata": {
        "id": "NAa6HaDaGTPi"
      },
      "outputs": [],
      "source": [
        "data_train.drop(['Workclass', 'Education', 'Martial_Status',\n",
        "                 'Occupation', 'Relationship', 'Race', 'Sex', 'Country'],\n",
        "                axis=1, inplace=True)\n",
        "data_test.drop(['Workclass', 'Education', 'Martial_Status', 'Occupation', \n",
        "                'Relationship', 'Race', 'Sex', 'Country'],\n",
        "               axis=1, inplace=True)"
      ]
    },
    {
      "cell_type": "code",
      "execution_count": 23,
      "metadata": {
        "colab": {
          "base_uri": "https://localhost:8080/",
          "height": 424
        },
        "id": "yT3d-OHWGaD9",
        "outputId": "d2adc180-5b63-4524-9f7c-8a52825e5f8d"
      },
      "outputs": [
        {
          "output_type": "execute_result",
          "data": {
            "text/plain": [
              "                            count           mean            std      min  \\\n",
              "Age                       16281.0      38.767459      13.849187     17.0   \n",
              "fnlwgt                    16281.0  189435.677784  105714.907671  13492.0   \n",
              "Education_Num             16281.0      10.072907       2.567545      1.0   \n",
              "Capital_Gain              16281.0    1081.905104    7583.935968      0.0   \n",
              "Capital_Loss              16281.0      87.899269     403.105286      0.0   \n",
              "...                           ...            ...            ...      ...   \n",
              "Country_ Thailand         16281.0       0.000737       0.027140      0.0   \n",
              "Country_ Trinadad&Tobago  16281.0       0.000491       0.022162      0.0   \n",
              "Country_ United-States    16281.0       0.900559       0.299262      0.0   \n",
              "Country_ Vietnam          16281.0       0.001167       0.034143      0.0   \n",
              "Country_ Yugoslavia       16281.0       0.000430       0.020731      0.0   \n",
              "\n",
              "                               25%       50%       75%        max  \n",
              "Age                           28.0      37.0      48.0       90.0  \n",
              "fnlwgt                    116736.0  177831.0  238384.0  1490400.0  \n",
              "Education_Num                  9.0      10.0      12.0       16.0  \n",
              "Capital_Gain                   0.0       0.0       0.0    99999.0  \n",
              "Capital_Loss                   0.0       0.0       0.0     3770.0  \n",
              "...                            ...       ...       ...        ...  \n",
              "Country_ Thailand              0.0       0.0       0.0        1.0  \n",
              "Country_ Trinadad&Tobago       0.0       0.0       0.0        1.0  \n",
              "Country_ United-States         1.0       1.0       1.0        1.0  \n",
              "Country_ Vietnam               0.0       0.0       0.0        1.0  \n",
              "Country_ Yugoslavia            0.0       0.0       0.0        1.0  \n",
              "\n",
              "[105 rows x 8 columns]"
            ],
            "text/html": [
              "\n",
              "  <div id=\"df-2655d9c8-1fff-4fa0-b1fd-d7bdd954ae92\">\n",
              "    <div class=\"colab-df-container\">\n",
              "      <div>\n",
              "<style scoped>\n",
              "    .dataframe tbody tr th:only-of-type {\n",
              "        vertical-align: middle;\n",
              "    }\n",
              "\n",
              "    .dataframe tbody tr th {\n",
              "        vertical-align: top;\n",
              "    }\n",
              "\n",
              "    .dataframe thead th {\n",
              "        text-align: right;\n",
              "    }\n",
              "</style>\n",
              "<table border=\"1\" class=\"dataframe\">\n",
              "  <thead>\n",
              "    <tr style=\"text-align: right;\">\n",
              "      <th></th>\n",
              "      <th>count</th>\n",
              "      <th>mean</th>\n",
              "      <th>std</th>\n",
              "      <th>min</th>\n",
              "      <th>25%</th>\n",
              "      <th>50%</th>\n",
              "      <th>75%</th>\n",
              "      <th>max</th>\n",
              "    </tr>\n",
              "  </thead>\n",
              "  <tbody>\n",
              "    <tr>\n",
              "      <th>Age</th>\n",
              "      <td>16281.0</td>\n",
              "      <td>38.767459</td>\n",
              "      <td>13.849187</td>\n",
              "      <td>17.0</td>\n",
              "      <td>28.0</td>\n",
              "      <td>37.0</td>\n",
              "      <td>48.0</td>\n",
              "      <td>90.0</td>\n",
              "    </tr>\n",
              "    <tr>\n",
              "      <th>fnlwgt</th>\n",
              "      <td>16281.0</td>\n",
              "      <td>189435.677784</td>\n",
              "      <td>105714.907671</td>\n",
              "      <td>13492.0</td>\n",
              "      <td>116736.0</td>\n",
              "      <td>177831.0</td>\n",
              "      <td>238384.0</td>\n",
              "      <td>1490400.0</td>\n",
              "    </tr>\n",
              "    <tr>\n",
              "      <th>Education_Num</th>\n",
              "      <td>16281.0</td>\n",
              "      <td>10.072907</td>\n",
              "      <td>2.567545</td>\n",
              "      <td>1.0</td>\n",
              "      <td>9.0</td>\n",
              "      <td>10.0</td>\n",
              "      <td>12.0</td>\n",
              "      <td>16.0</td>\n",
              "    </tr>\n",
              "    <tr>\n",
              "      <th>Capital_Gain</th>\n",
              "      <td>16281.0</td>\n",
              "      <td>1081.905104</td>\n",
              "      <td>7583.935968</td>\n",
              "      <td>0.0</td>\n",
              "      <td>0.0</td>\n",
              "      <td>0.0</td>\n",
              "      <td>0.0</td>\n",
              "      <td>99999.0</td>\n",
              "    </tr>\n",
              "    <tr>\n",
              "      <th>Capital_Loss</th>\n",
              "      <td>16281.0</td>\n",
              "      <td>87.899269</td>\n",
              "      <td>403.105286</td>\n",
              "      <td>0.0</td>\n",
              "      <td>0.0</td>\n",
              "      <td>0.0</td>\n",
              "      <td>0.0</td>\n",
              "      <td>3770.0</td>\n",
              "    </tr>\n",
              "    <tr>\n",
              "      <th>...</th>\n",
              "      <td>...</td>\n",
              "      <td>...</td>\n",
              "      <td>...</td>\n",
              "      <td>...</td>\n",
              "      <td>...</td>\n",
              "      <td>...</td>\n",
              "      <td>...</td>\n",
              "      <td>...</td>\n",
              "    </tr>\n",
              "    <tr>\n",
              "      <th>Country_ Thailand</th>\n",
              "      <td>16281.0</td>\n",
              "      <td>0.000737</td>\n",
              "      <td>0.027140</td>\n",
              "      <td>0.0</td>\n",
              "      <td>0.0</td>\n",
              "      <td>0.0</td>\n",
              "      <td>0.0</td>\n",
              "      <td>1.0</td>\n",
              "    </tr>\n",
              "    <tr>\n",
              "      <th>Country_ Trinadad&amp;Tobago</th>\n",
              "      <td>16281.0</td>\n",
              "      <td>0.000491</td>\n",
              "      <td>0.022162</td>\n",
              "      <td>0.0</td>\n",
              "      <td>0.0</td>\n",
              "      <td>0.0</td>\n",
              "      <td>0.0</td>\n",
              "      <td>1.0</td>\n",
              "    </tr>\n",
              "    <tr>\n",
              "      <th>Country_ United-States</th>\n",
              "      <td>16281.0</td>\n",
              "      <td>0.900559</td>\n",
              "      <td>0.299262</td>\n",
              "      <td>0.0</td>\n",
              "      <td>1.0</td>\n",
              "      <td>1.0</td>\n",
              "      <td>1.0</td>\n",
              "      <td>1.0</td>\n",
              "    </tr>\n",
              "    <tr>\n",
              "      <th>Country_ Vietnam</th>\n",
              "      <td>16281.0</td>\n",
              "      <td>0.001167</td>\n",
              "      <td>0.034143</td>\n",
              "      <td>0.0</td>\n",
              "      <td>0.0</td>\n",
              "      <td>0.0</td>\n",
              "      <td>0.0</td>\n",
              "      <td>1.0</td>\n",
              "    </tr>\n",
              "    <tr>\n",
              "      <th>Country_ Yugoslavia</th>\n",
              "      <td>16281.0</td>\n",
              "      <td>0.000430</td>\n",
              "      <td>0.020731</td>\n",
              "      <td>0.0</td>\n",
              "      <td>0.0</td>\n",
              "      <td>0.0</td>\n",
              "      <td>0.0</td>\n",
              "      <td>1.0</td>\n",
              "    </tr>\n",
              "  </tbody>\n",
              "</table>\n",
              "<p>105 rows × 8 columns</p>\n",
              "</div>\n",
              "      <button class=\"colab-df-convert\" onclick=\"convertToInteractive('df-2655d9c8-1fff-4fa0-b1fd-d7bdd954ae92')\"\n",
              "              title=\"Convert this dataframe to an interactive table.\"\n",
              "              style=\"display:none;\">\n",
              "        \n",
              "  <svg xmlns=\"http://www.w3.org/2000/svg\" height=\"24px\"viewBox=\"0 0 24 24\"\n",
              "       width=\"24px\">\n",
              "    <path d=\"M0 0h24v24H0V0z\" fill=\"none\"/>\n",
              "    <path d=\"M18.56 5.44l.94 2.06.94-2.06 2.06-.94-2.06-.94-.94-2.06-.94 2.06-2.06.94zm-11 1L8.5 8.5l.94-2.06 2.06-.94-2.06-.94L8.5 2.5l-.94 2.06-2.06.94zm10 10l.94 2.06.94-2.06 2.06-.94-2.06-.94-.94-2.06-.94 2.06-2.06.94z\"/><path d=\"M17.41 7.96l-1.37-1.37c-.4-.4-.92-.59-1.43-.59-.52 0-1.04.2-1.43.59L10.3 9.45l-7.72 7.72c-.78.78-.78 2.05 0 2.83L4 21.41c.39.39.9.59 1.41.59.51 0 1.02-.2 1.41-.59l7.78-7.78 2.81-2.81c.8-.78.8-2.07 0-2.86zM5.41 20L4 18.59l7.72-7.72 1.47 1.35L5.41 20z\"/>\n",
              "  </svg>\n",
              "      </button>\n",
              "      \n",
              "  <style>\n",
              "    .colab-df-container {\n",
              "      display:flex;\n",
              "      flex-wrap:wrap;\n",
              "      gap: 12px;\n",
              "    }\n",
              "\n",
              "    .colab-df-convert {\n",
              "      background-color: #E8F0FE;\n",
              "      border: none;\n",
              "      border-radius: 50%;\n",
              "      cursor: pointer;\n",
              "      display: none;\n",
              "      fill: #1967D2;\n",
              "      height: 32px;\n",
              "      padding: 0 0 0 0;\n",
              "      width: 32px;\n",
              "    }\n",
              "\n",
              "    .colab-df-convert:hover {\n",
              "      background-color: #E2EBFA;\n",
              "      box-shadow: 0px 1px 2px rgba(60, 64, 67, 0.3), 0px 1px 3px 1px rgba(60, 64, 67, 0.15);\n",
              "      fill: #174EA6;\n",
              "    }\n",
              "\n",
              "    [theme=dark] .colab-df-convert {\n",
              "      background-color: #3B4455;\n",
              "      fill: #D2E3FC;\n",
              "    }\n",
              "\n",
              "    [theme=dark] .colab-df-convert:hover {\n",
              "      background-color: #434B5C;\n",
              "      box-shadow: 0px 1px 3px 1px rgba(0, 0, 0, 0.15);\n",
              "      filter: drop-shadow(0px 1px 2px rgba(0, 0, 0, 0.3));\n",
              "      fill: #FFFFFF;\n",
              "    }\n",
              "  </style>\n",
              "\n",
              "      <script>\n",
              "        const buttonEl =\n",
              "          document.querySelector('#df-2655d9c8-1fff-4fa0-b1fd-d7bdd954ae92 button.colab-df-convert');\n",
              "        buttonEl.style.display =\n",
              "          google.colab.kernel.accessAllowed ? 'block' : 'none';\n",
              "\n",
              "        async function convertToInteractive(key) {\n",
              "          const element = document.querySelector('#df-2655d9c8-1fff-4fa0-b1fd-d7bdd954ae92');\n",
              "          const dataTable =\n",
              "            await google.colab.kernel.invokeFunction('convertToInteractive',\n",
              "                                                     [key], {});\n",
              "          if (!dataTable) return;\n",
              "\n",
              "          const docLinkHtml = 'Like what you see? Visit the ' +\n",
              "            '<a target=\"_blank\" href=https://colab.research.google.com/notebooks/data_table.ipynb>data table notebook</a>'\n",
              "            + ' to learn more about interactive tables.';\n",
              "          element.innerHTML = '';\n",
              "          dataTable['output_type'] = 'display_data';\n",
              "          await google.colab.output.renderOutput(dataTable, element);\n",
              "          const docLink = document.createElement('div');\n",
              "          docLink.innerHTML = docLinkHtml;\n",
              "          element.appendChild(docLink);\n",
              "        }\n",
              "      </script>\n",
              "    </div>\n",
              "  </div>\n",
              "  "
            ]
          },
          "metadata": {},
          "execution_count": 23
        }
      ],
      "source": [
        "data_test.describe(include='all').T"
      ]
    },
    {
      "cell_type": "code",
      "execution_count": 24,
      "metadata": {
        "colab": {
          "base_uri": "https://localhost:8080/"
        },
        "id": "60aQTgj3GkM4",
        "outputId": "9d662619-47f5-4403-99af-6a395fa5a1ee"
      },
      "outputs": [
        {
          "output_type": "execute_result",
          "data": {
            "text/plain": [
              "{'Country_ Holand-Netherlands'}"
            ]
          },
          "metadata": {},
          "execution_count": 24
        }
      ],
      "source": [
        "set(data_train.columns) - set(data_test.columns)"
      ]
    },
    {
      "cell_type": "code",
      "execution_count": 25,
      "metadata": {
        "colab": {
          "base_uri": "https://localhost:8080/"
        },
        "id": "iEKc29h9HKsH",
        "outputId": "58003736-9d62-4db3-f86b-e9f8e004bb1c"
      },
      "outputs": [
        {
          "output_type": "execute_result",
          "data": {
            "text/plain": [
              "((32561, 106), (16281, 105))"
            ]
          },
          "metadata": {},
          "execution_count": 25
        }
      ],
      "source": [
        "data_train.shape, data_test.shape"
      ]
    },
    {
      "cell_type": "code",
      "execution_count": 26,
      "metadata": {
        "id": "HYsb4mNoHNpt"
      },
      "outputs": [],
      "source": [
        "data_test['Country_ Holand-Netherlands'] = np.zeros([data_test.shape[0], 1])"
      ]
    },
    {
      "cell_type": "code",
      "execution_count": 27,
      "metadata": {
        "colab": {
          "base_uri": "https://localhost:8080/"
        },
        "id": "vK4D7XRcHRTo",
        "outputId": "bbba8e44-0d3d-4f14-9028-7bccbdc541b1"
      },
      "outputs": [
        {
          "output_type": "execute_result",
          "data": {
            "text/plain": [
              "set()"
            ]
          },
          "metadata": {},
          "execution_count": 27
        }
      ],
      "source": [
        "set(data_train.columns) - set(data_test.columns)"
      ]
    },
    {
      "cell_type": "code",
      "execution_count": 28,
      "metadata": {
        "colab": {
          "base_uri": "https://localhost:8080/",
          "height": 240
        },
        "id": "NiROD7XPHVQJ",
        "outputId": "b826d4e0-294e-409d-f8e3-76de438d4361"
      },
      "outputs": [
        {
          "output_type": "execute_result",
          "data": {
            "text/plain": [
              "   Age  fnlwgt  Education_Num  Capital_Gain  Capital_Loss  Hours_per_week  \\\n",
              "0   39   77516             13          2174             0              40   \n",
              "1   50   83311             13             0             0              13   \n",
              "\n",
              "   Target  Workclass_ Federal-gov  Workclass_ Local-gov  \\\n",
              "0       0                       0                     0   \n",
              "1       0                       0                     0   \n",
              "\n",
              "   Workclass_ Never-worked  ...  Country_ Portugal  Country_ Puerto-Rico  \\\n",
              "0                        0  ...                  0                     0   \n",
              "1                        0  ...                  0                     0   \n",
              "\n",
              "   Country_ Scotland  Country_ South  Country_ Taiwan  Country_ Thailand  \\\n",
              "0                  0               0                0                  0   \n",
              "1                  0               0                0                  0   \n",
              "\n",
              "   Country_ Trinadad&Tobago  Country_ United-States  Country_ Vietnam  \\\n",
              "0                         0                       1                 0   \n",
              "1                         0                       1                 0   \n",
              "\n",
              "   Country_ Yugoslavia  \n",
              "0                    0  \n",
              "1                    0  \n",
              "\n",
              "[2 rows x 106 columns]"
            ],
            "text/html": [
              "\n",
              "  <div id=\"df-909fed5e-c335-4e77-8ef6-adf203836b12\">\n",
              "    <div class=\"colab-df-container\">\n",
              "      <div>\n",
              "<style scoped>\n",
              "    .dataframe tbody tr th:only-of-type {\n",
              "        vertical-align: middle;\n",
              "    }\n",
              "\n",
              "    .dataframe tbody tr th {\n",
              "        vertical-align: top;\n",
              "    }\n",
              "\n",
              "    .dataframe thead th {\n",
              "        text-align: right;\n",
              "    }\n",
              "</style>\n",
              "<table border=\"1\" class=\"dataframe\">\n",
              "  <thead>\n",
              "    <tr style=\"text-align: right;\">\n",
              "      <th></th>\n",
              "      <th>Age</th>\n",
              "      <th>fnlwgt</th>\n",
              "      <th>Education_Num</th>\n",
              "      <th>Capital_Gain</th>\n",
              "      <th>Capital_Loss</th>\n",
              "      <th>Hours_per_week</th>\n",
              "      <th>Target</th>\n",
              "      <th>Workclass_ Federal-gov</th>\n",
              "      <th>Workclass_ Local-gov</th>\n",
              "      <th>Workclass_ Never-worked</th>\n",
              "      <th>...</th>\n",
              "      <th>Country_ Portugal</th>\n",
              "      <th>Country_ Puerto-Rico</th>\n",
              "      <th>Country_ Scotland</th>\n",
              "      <th>Country_ South</th>\n",
              "      <th>Country_ Taiwan</th>\n",
              "      <th>Country_ Thailand</th>\n",
              "      <th>Country_ Trinadad&amp;Tobago</th>\n",
              "      <th>Country_ United-States</th>\n",
              "      <th>Country_ Vietnam</th>\n",
              "      <th>Country_ Yugoslavia</th>\n",
              "    </tr>\n",
              "  </thead>\n",
              "  <tbody>\n",
              "    <tr>\n",
              "      <th>0</th>\n",
              "      <td>39</td>\n",
              "      <td>77516</td>\n",
              "      <td>13</td>\n",
              "      <td>2174</td>\n",
              "      <td>0</td>\n",
              "      <td>40</td>\n",
              "      <td>0</td>\n",
              "      <td>0</td>\n",
              "      <td>0</td>\n",
              "      <td>0</td>\n",
              "      <td>...</td>\n",
              "      <td>0</td>\n",
              "      <td>0</td>\n",
              "      <td>0</td>\n",
              "      <td>0</td>\n",
              "      <td>0</td>\n",
              "      <td>0</td>\n",
              "      <td>0</td>\n",
              "      <td>1</td>\n",
              "      <td>0</td>\n",
              "      <td>0</td>\n",
              "    </tr>\n",
              "    <tr>\n",
              "      <th>1</th>\n",
              "      <td>50</td>\n",
              "      <td>83311</td>\n",
              "      <td>13</td>\n",
              "      <td>0</td>\n",
              "      <td>0</td>\n",
              "      <td>13</td>\n",
              "      <td>0</td>\n",
              "      <td>0</td>\n",
              "      <td>0</td>\n",
              "      <td>0</td>\n",
              "      <td>...</td>\n",
              "      <td>0</td>\n",
              "      <td>0</td>\n",
              "      <td>0</td>\n",
              "      <td>0</td>\n",
              "      <td>0</td>\n",
              "      <td>0</td>\n",
              "      <td>0</td>\n",
              "      <td>1</td>\n",
              "      <td>0</td>\n",
              "      <td>0</td>\n",
              "    </tr>\n",
              "  </tbody>\n",
              "</table>\n",
              "<p>2 rows × 106 columns</p>\n",
              "</div>\n",
              "      <button class=\"colab-df-convert\" onclick=\"convertToInteractive('df-909fed5e-c335-4e77-8ef6-adf203836b12')\"\n",
              "              title=\"Convert this dataframe to an interactive table.\"\n",
              "              style=\"display:none;\">\n",
              "        \n",
              "  <svg xmlns=\"http://www.w3.org/2000/svg\" height=\"24px\"viewBox=\"0 0 24 24\"\n",
              "       width=\"24px\">\n",
              "    <path d=\"M0 0h24v24H0V0z\" fill=\"none\"/>\n",
              "    <path d=\"M18.56 5.44l.94 2.06.94-2.06 2.06-.94-2.06-.94-.94-2.06-.94 2.06-2.06.94zm-11 1L8.5 8.5l.94-2.06 2.06-.94-2.06-.94L8.5 2.5l-.94 2.06-2.06.94zm10 10l.94 2.06.94-2.06 2.06-.94-2.06-.94-.94-2.06-.94 2.06-2.06.94z\"/><path d=\"M17.41 7.96l-1.37-1.37c-.4-.4-.92-.59-1.43-.59-.52 0-1.04.2-1.43.59L10.3 9.45l-7.72 7.72c-.78.78-.78 2.05 0 2.83L4 21.41c.39.39.9.59 1.41.59.51 0 1.02-.2 1.41-.59l7.78-7.78 2.81-2.81c.8-.78.8-2.07 0-2.86zM5.41 20L4 18.59l7.72-7.72 1.47 1.35L5.41 20z\"/>\n",
              "  </svg>\n",
              "      </button>\n",
              "      \n",
              "  <style>\n",
              "    .colab-df-container {\n",
              "      display:flex;\n",
              "      flex-wrap:wrap;\n",
              "      gap: 12px;\n",
              "    }\n",
              "\n",
              "    .colab-df-convert {\n",
              "      background-color: #E8F0FE;\n",
              "      border: none;\n",
              "      border-radius: 50%;\n",
              "      cursor: pointer;\n",
              "      display: none;\n",
              "      fill: #1967D2;\n",
              "      height: 32px;\n",
              "      padding: 0 0 0 0;\n",
              "      width: 32px;\n",
              "    }\n",
              "\n",
              "    .colab-df-convert:hover {\n",
              "      background-color: #E2EBFA;\n",
              "      box-shadow: 0px 1px 2px rgba(60, 64, 67, 0.3), 0px 1px 3px 1px rgba(60, 64, 67, 0.15);\n",
              "      fill: #174EA6;\n",
              "    }\n",
              "\n",
              "    [theme=dark] .colab-df-convert {\n",
              "      background-color: #3B4455;\n",
              "      fill: #D2E3FC;\n",
              "    }\n",
              "\n",
              "    [theme=dark] .colab-df-convert:hover {\n",
              "      background-color: #434B5C;\n",
              "      box-shadow: 0px 1px 3px 1px rgba(0, 0, 0, 0.15);\n",
              "      filter: drop-shadow(0px 1px 2px rgba(0, 0, 0, 0.3));\n",
              "      fill: #FFFFFF;\n",
              "    }\n",
              "  </style>\n",
              "\n",
              "      <script>\n",
              "        const buttonEl =\n",
              "          document.querySelector('#df-909fed5e-c335-4e77-8ef6-adf203836b12 button.colab-df-convert');\n",
              "        buttonEl.style.display =\n",
              "          google.colab.kernel.accessAllowed ? 'block' : 'none';\n",
              "\n",
              "        async function convertToInteractive(key) {\n",
              "          const element = document.querySelector('#df-909fed5e-c335-4e77-8ef6-adf203836b12');\n",
              "          const dataTable =\n",
              "            await google.colab.kernel.invokeFunction('convertToInteractive',\n",
              "                                                     [key], {});\n",
              "          if (!dataTable) return;\n",
              "\n",
              "          const docLinkHtml = 'Like what you see? Visit the ' +\n",
              "            '<a target=\"_blank\" href=https://colab.research.google.com/notebooks/data_table.ipynb>data table notebook</a>'\n",
              "            + ' to learn more about interactive tables.';\n",
              "          element.innerHTML = '';\n",
              "          dataTable['output_type'] = 'display_data';\n",
              "          await google.colab.output.renderOutput(dataTable, element);\n",
              "          const docLink = document.createElement('div');\n",
              "          docLink.innerHTML = docLinkHtml;\n",
              "          element.appendChild(docLink);\n",
              "        }\n",
              "      </script>\n",
              "    </div>\n",
              "  </div>\n",
              "  "
            ]
          },
          "metadata": {},
          "execution_count": 28
        }
      ],
      "source": [
        "data_train.head(2)"
      ]
    },
    {
      "cell_type": "code",
      "execution_count": 29,
      "metadata": {
        "colab": {
          "base_uri": "https://localhost:8080/",
          "height": 240
        },
        "id": "c12iqju6HZIf",
        "outputId": "890522e6-b3cf-4106-de62-b57c555d146d"
      },
      "outputs": [
        {
          "output_type": "execute_result",
          "data": {
            "text/plain": [
              "   Age  fnlwgt  Education_Num  Capital_Gain  Capital_Loss  Hours_per_week  \\\n",
              "1   25  226802              7             0             0              40   \n",
              "2   38   89814              9             0             0              50   \n",
              "\n",
              "   Target  Workclass_ Federal-gov  Workclass_ Local-gov  \\\n",
              "1       0                       0                     0   \n",
              "2       0                       0                     0   \n",
              "\n",
              "   Workclass_ Never-worked  ...  Country_ Puerto-Rico  Country_ Scotland  \\\n",
              "1                        0  ...                     0                  0   \n",
              "2                        0  ...                     0                  0   \n",
              "\n",
              "   Country_ South  Country_ Taiwan  Country_ Thailand  \\\n",
              "1               0                0                  0   \n",
              "2               0                0                  0   \n",
              "\n",
              "   Country_ Trinadad&Tobago  Country_ United-States  Country_ Vietnam  \\\n",
              "1                         0                       1                 0   \n",
              "2                         0                       1                 0   \n",
              "\n",
              "   Country_ Yugoslavia  Country_ Holand-Netherlands  \n",
              "1                    0                          0.0  \n",
              "2                    0                          0.0  \n",
              "\n",
              "[2 rows x 106 columns]"
            ],
            "text/html": [
              "\n",
              "  <div id=\"df-7245a00d-9069-4301-b3e5-e6bf71f80e63\">\n",
              "    <div class=\"colab-df-container\">\n",
              "      <div>\n",
              "<style scoped>\n",
              "    .dataframe tbody tr th:only-of-type {\n",
              "        vertical-align: middle;\n",
              "    }\n",
              "\n",
              "    .dataframe tbody tr th {\n",
              "        vertical-align: top;\n",
              "    }\n",
              "\n",
              "    .dataframe thead th {\n",
              "        text-align: right;\n",
              "    }\n",
              "</style>\n",
              "<table border=\"1\" class=\"dataframe\">\n",
              "  <thead>\n",
              "    <tr style=\"text-align: right;\">\n",
              "      <th></th>\n",
              "      <th>Age</th>\n",
              "      <th>fnlwgt</th>\n",
              "      <th>Education_Num</th>\n",
              "      <th>Capital_Gain</th>\n",
              "      <th>Capital_Loss</th>\n",
              "      <th>Hours_per_week</th>\n",
              "      <th>Target</th>\n",
              "      <th>Workclass_ Federal-gov</th>\n",
              "      <th>Workclass_ Local-gov</th>\n",
              "      <th>Workclass_ Never-worked</th>\n",
              "      <th>...</th>\n",
              "      <th>Country_ Puerto-Rico</th>\n",
              "      <th>Country_ Scotland</th>\n",
              "      <th>Country_ South</th>\n",
              "      <th>Country_ Taiwan</th>\n",
              "      <th>Country_ Thailand</th>\n",
              "      <th>Country_ Trinadad&amp;Tobago</th>\n",
              "      <th>Country_ United-States</th>\n",
              "      <th>Country_ Vietnam</th>\n",
              "      <th>Country_ Yugoslavia</th>\n",
              "      <th>Country_ Holand-Netherlands</th>\n",
              "    </tr>\n",
              "  </thead>\n",
              "  <tbody>\n",
              "    <tr>\n",
              "      <th>1</th>\n",
              "      <td>25</td>\n",
              "      <td>226802</td>\n",
              "      <td>7</td>\n",
              "      <td>0</td>\n",
              "      <td>0</td>\n",
              "      <td>40</td>\n",
              "      <td>0</td>\n",
              "      <td>0</td>\n",
              "      <td>0</td>\n",
              "      <td>0</td>\n",
              "      <td>...</td>\n",
              "      <td>0</td>\n",
              "      <td>0</td>\n",
              "      <td>0</td>\n",
              "      <td>0</td>\n",
              "      <td>0</td>\n",
              "      <td>0</td>\n",
              "      <td>1</td>\n",
              "      <td>0</td>\n",
              "      <td>0</td>\n",
              "      <td>0.0</td>\n",
              "    </tr>\n",
              "    <tr>\n",
              "      <th>2</th>\n",
              "      <td>38</td>\n",
              "      <td>89814</td>\n",
              "      <td>9</td>\n",
              "      <td>0</td>\n",
              "      <td>0</td>\n",
              "      <td>50</td>\n",
              "      <td>0</td>\n",
              "      <td>0</td>\n",
              "      <td>0</td>\n",
              "      <td>0</td>\n",
              "      <td>...</td>\n",
              "      <td>0</td>\n",
              "      <td>0</td>\n",
              "      <td>0</td>\n",
              "      <td>0</td>\n",
              "      <td>0</td>\n",
              "      <td>0</td>\n",
              "      <td>1</td>\n",
              "      <td>0</td>\n",
              "      <td>0</td>\n",
              "      <td>0.0</td>\n",
              "    </tr>\n",
              "  </tbody>\n",
              "</table>\n",
              "<p>2 rows × 106 columns</p>\n",
              "</div>\n",
              "      <button class=\"colab-df-convert\" onclick=\"convertToInteractive('df-7245a00d-9069-4301-b3e5-e6bf71f80e63')\"\n",
              "              title=\"Convert this dataframe to an interactive table.\"\n",
              "              style=\"display:none;\">\n",
              "        \n",
              "  <svg xmlns=\"http://www.w3.org/2000/svg\" height=\"24px\"viewBox=\"0 0 24 24\"\n",
              "       width=\"24px\">\n",
              "    <path d=\"M0 0h24v24H0V0z\" fill=\"none\"/>\n",
              "    <path d=\"M18.56 5.44l.94 2.06.94-2.06 2.06-.94-2.06-.94-.94-2.06-.94 2.06-2.06.94zm-11 1L8.5 8.5l.94-2.06 2.06-.94-2.06-.94L8.5 2.5l-.94 2.06-2.06.94zm10 10l.94 2.06.94-2.06 2.06-.94-2.06-.94-.94-2.06-.94 2.06-2.06.94z\"/><path d=\"M17.41 7.96l-1.37-1.37c-.4-.4-.92-.59-1.43-.59-.52 0-1.04.2-1.43.59L10.3 9.45l-7.72 7.72c-.78.78-.78 2.05 0 2.83L4 21.41c.39.39.9.59 1.41.59.51 0 1.02-.2 1.41-.59l7.78-7.78 2.81-2.81c.8-.78.8-2.07 0-2.86zM5.41 20L4 18.59l7.72-7.72 1.47 1.35L5.41 20z\"/>\n",
              "  </svg>\n",
              "      </button>\n",
              "      \n",
              "  <style>\n",
              "    .colab-df-container {\n",
              "      display:flex;\n",
              "      flex-wrap:wrap;\n",
              "      gap: 12px;\n",
              "    }\n",
              "\n",
              "    .colab-df-convert {\n",
              "      background-color: #E8F0FE;\n",
              "      border: none;\n",
              "      border-radius: 50%;\n",
              "      cursor: pointer;\n",
              "      display: none;\n",
              "      fill: #1967D2;\n",
              "      height: 32px;\n",
              "      padding: 0 0 0 0;\n",
              "      width: 32px;\n",
              "    }\n",
              "\n",
              "    .colab-df-convert:hover {\n",
              "      background-color: #E2EBFA;\n",
              "      box-shadow: 0px 1px 2px rgba(60, 64, 67, 0.3), 0px 1px 3px 1px rgba(60, 64, 67, 0.15);\n",
              "      fill: #174EA6;\n",
              "    }\n",
              "\n",
              "    [theme=dark] .colab-df-convert {\n",
              "      background-color: #3B4455;\n",
              "      fill: #D2E3FC;\n",
              "    }\n",
              "\n",
              "    [theme=dark] .colab-df-convert:hover {\n",
              "      background-color: #434B5C;\n",
              "      box-shadow: 0px 1px 3px 1px rgba(0, 0, 0, 0.15);\n",
              "      filter: drop-shadow(0px 1px 2px rgba(0, 0, 0, 0.3));\n",
              "      fill: #FFFFFF;\n",
              "    }\n",
              "  </style>\n",
              "\n",
              "      <script>\n",
              "        const buttonEl =\n",
              "          document.querySelector('#df-7245a00d-9069-4301-b3e5-e6bf71f80e63 button.colab-df-convert');\n",
              "        buttonEl.style.display =\n",
              "          google.colab.kernel.accessAllowed ? 'block' : 'none';\n",
              "\n",
              "        async function convertToInteractive(key) {\n",
              "          const element = document.querySelector('#df-7245a00d-9069-4301-b3e5-e6bf71f80e63');\n",
              "          const dataTable =\n",
              "            await google.colab.kernel.invokeFunction('convertToInteractive',\n",
              "                                                     [key], {});\n",
              "          if (!dataTable) return;\n",
              "\n",
              "          const docLinkHtml = 'Like what you see? Visit the ' +\n",
              "            '<a target=\"_blank\" href=https://colab.research.google.com/notebooks/data_table.ipynb>data table notebook</a>'\n",
              "            + ' to learn more about interactive tables.';\n",
              "          element.innerHTML = '';\n",
              "          dataTable['output_type'] = 'display_data';\n",
              "          await google.colab.output.renderOutput(dataTable, element);\n",
              "          const docLink = document.createElement('div');\n",
              "          docLink.innerHTML = docLinkHtml;\n",
              "          element.appendChild(docLink);\n",
              "        }\n",
              "      </script>\n",
              "    </div>\n",
              "  </div>\n",
              "  "
            ]
          },
          "metadata": {},
          "execution_count": 29
        }
      ],
      "source": [
        "data_test.head(2)"
      ]
    },
    {
      "cell_type": "code",
      "execution_count": 30,
      "metadata": {
        "id": "v04uO_exHdaP"
      },
      "outputs": [],
      "source": [
        "X_train=data_train.drop(['Target'], axis=1)\n",
        "y_train = data_train['Target']\n",
        "\n",
        "X_test=data_test.drop(['Target'], axis=1)\n",
        "y_test = data_test['Target']"
      ]
    },
    {
      "cell_type": "code",
      "execution_count": 31,
      "metadata": {
        "colab": {
          "base_uri": "https://localhost:8080/"
        },
        "id": "udDppN6lKPr2",
        "outputId": "58d1fe12-7bd1-4919-e306-d0fb6d9f9d45"
      },
      "outputs": [
        {
          "output_type": "execute_result",
          "data": {
            "text/plain": [
              "DecisionTreeClassifier(max_depth=3, random_state=17)"
            ]
          },
          "metadata": {},
          "execution_count": 31
        }
      ],
      "source": [
        "tree = DecisionTreeClassifier(max_depth=3, random_state = 17)\n",
        "tree.fit(X_train, y_train)"
      ]
    },
    {
      "cell_type": "code",
      "execution_count": 32,
      "metadata": {
        "colab": {
          "base_uri": "https://localhost:8080/"
        },
        "id": "9U4-Jx7NKXQ5",
        "outputId": "16c9147e-373d-4cfe-e706-f1649441a7ce"
      },
      "outputs": [
        {
          "output_type": "stream",
          "name": "stderr",
          "text": [
            "/usr/local/lib/python3.8/dist-packages/sklearn/base.py:493: FutureWarning: The feature names should match those that were passed during fit. Starting version 1.2, an error will be raised.\n",
            "Feature names must be in the same order as they were in fit.\n",
            "\n",
            "  warnings.warn(message, FutureWarning)\n"
          ]
        }
      ],
      "source": [
        "tree_predictions = tree.predict(X_test) "
      ]
    },
    {
      "cell_type": "code",
      "execution_count": 33,
      "metadata": {
        "colab": {
          "base_uri": "https://localhost:8080/"
        },
        "id": "QAwOlMkSKZsm",
        "outputId": "a82d9f83-909e-4115-f40f-8ddbe89bbab6"
      },
      "outputs": [
        {
          "output_type": "execute_result",
          "data": {
            "text/plain": [
              "0.8447884036607088"
            ]
          },
          "metadata": {},
          "execution_count": 33
        }
      ],
      "source": [
        "accuracy_score(y_test,tree_predictions)"
      ]
    },
    {
      "cell_type": "markdown",
      "metadata": {
        "id": "EBtFp6OAKjKm"
      },
      "source": [
        "Какова доля правильных ответов дерева решений на тестовой выборке при максимальной глубине дерева = 3 и random_state = 17? Ответ: 0.8447884036607088"
      ]
    },
    {
      "cell_type": "code",
      "execution_count": 34,
      "metadata": {
        "colab": {
          "base_uri": "https://localhost:8080/"
        },
        "id": "mHt14fmyKvmP",
        "outputId": "148dcb93-d15e-4ae9-e146-0b14b831c8e8"
      },
      "outputs": [
        {
          "output_type": "execute_result",
          "data": {
            "text/plain": [
              "GridSearchCV(cv=5, estimator=DecisionTreeClassifier(random_state=17),\n",
              "             param_grid={'max_depth': range(2, 11)})"
            ]
          },
          "metadata": {},
          "execution_count": 34
        }
      ],
      "source": [
        "tree_params = {'max_depth': range(2,11)}\n",
        "\n",
        "locally_best_tree = GridSearchCV(DecisionTreeClassifier(random_state=17),\n",
        "                                 tree_params, cv=5)                  \n",
        "\n",
        "locally_best_tree.fit(X_train, y_train)"
      ]
    },
    {
      "cell_type": "code",
      "execution_count": 35,
      "metadata": {
        "colab": {
          "base_uri": "https://localhost:8080/"
        },
        "id": "ajGd0DkPLWr7",
        "outputId": "cf7a7431-5210-4175-fa7f-fab239030cfb"
      },
      "outputs": [
        {
          "output_type": "stream",
          "name": "stdout",
          "text": [
            "Best params: {'max_depth': 9}\n",
            "Best cross validaton score 0.8562698879315647\n"
          ]
        }
      ],
      "source": [
        "print(\"Best params:\", locally_best_tree.best_params_)\n",
        "print(\"Best cross validaton score\", locally_best_tree.best_score_)"
      ]
    },
    {
      "cell_type": "code",
      "execution_count": 36,
      "metadata": {
        "colab": {
          "base_uri": "https://localhost:8080/"
        },
        "id": "SqRZH9DWNOzG",
        "outputId": "42cd83f0-2469-45e2-b113-a19ef1725a47"
      },
      "outputs": [
        {
          "output_type": "stream",
          "name": "stderr",
          "text": [
            "/usr/local/lib/python3.8/dist-packages/sklearn/base.py:493: FutureWarning: The feature names should match those that were passed during fit. Starting version 1.2, an error will be raised.\n",
            "Feature names must be in the same order as they were in fit.\n",
            "\n",
            "  warnings.warn(message, FutureWarning)\n"
          ]
        },
        {
          "output_type": "execute_result",
          "data": {
            "text/plain": [
              "0.8471838339168356"
            ]
          },
          "metadata": {},
          "execution_count": 36
        }
      ],
      "source": [
        "tuned_tree = DecisionTreeClassifier(max_depth=9, random_state = 17)\n",
        "tuned_tree.fit(X_train, y_train)\n",
        "tuned_tree_predictions = tuned_tree.predict(X_test)\n",
        "accuracy_score(y_test,tuned_tree_predictions)"
      ]
    },
    {
      "cell_type": "markdown",
      "metadata": {
        "id": "ev6MKm5nNVhB"
      },
      "source": [
        "\n",
        "Какова доля правильных ответов дерева решений на тестовой выборке при максимальной глубине дерева = 9 и random_state = 17? Ответ: 0.8471838339168356"
      ]
    },
    {
      "cell_type": "code",
      "execution_count": 37,
      "metadata": {
        "id": "F5Y8YQOZNbKY"
      },
      "outputs": [],
      "source": [
        "%matplotlib inline\n",
        "\n",
        "import warnings\n",
        "\n",
        "import matplotlib.pyplot as plt\n",
        "import seaborn as sns\n",
        "\n",
        "warnings.filterwarnings(\"ignore\")\n",
        "import numpy as np\n",
        "import pandas as pd"
      ]
    },
    {
      "cell_type": "code",
      "execution_count": 38,
      "metadata": {
        "colab": {
          "base_uri": "https://localhost:8080/",
          "height": 267
        },
        "id": "ia15h2MAN7Os",
        "outputId": "8aa1d3cb-33e7-403b-92d3-7d67437eb2b2"
      },
      "outputs": [
        {
          "output_type": "execute_result",
          "data": {
            "text/plain": [
              "   SeriousDlqin2yrs  age  NumberOfTime30-59DaysPastDueNotWorse    DebtRatio  \\\n",
              "0                 0   64                                     0     0.249908   \n",
              "1                 0   58                                     0  3870.000000   \n",
              "2                 0   41                                     0     0.456127   \n",
              "3                 0   43                                     0     0.000190   \n",
              "4                 1   49                                     0     0.271820   \n",
              "\n",
              "   NumberOfTimes90DaysLate  NumberOfTime60-89DaysPastDueNotWorse  \\\n",
              "0                        0                                     0   \n",
              "1                        0                                     0   \n",
              "2                        0                                     0   \n",
              "3                        0                                     0   \n",
              "4                        0                                     0   \n",
              "\n",
              "   MonthlyIncome  NumberOfDependents  \n",
              "0         8158.0                 0.0  \n",
              "1            NaN                 0.0  \n",
              "2         6666.0                 0.0  \n",
              "3        10500.0                 2.0  \n",
              "4          400.0                 0.0  "
            ],
            "text/html": [
              "\n",
              "  <div id=\"df-5162dec6-f056-4750-b05a-325180aa8d43\">\n",
              "    <div class=\"colab-df-container\">\n",
              "      <div>\n",
              "<style scoped>\n",
              "    .dataframe tbody tr th:only-of-type {\n",
              "        vertical-align: middle;\n",
              "    }\n",
              "\n",
              "    .dataframe tbody tr th {\n",
              "        vertical-align: top;\n",
              "    }\n",
              "\n",
              "    .dataframe thead th {\n",
              "        text-align: right;\n",
              "    }\n",
              "</style>\n",
              "<table border=\"1\" class=\"dataframe\">\n",
              "  <thead>\n",
              "    <tr style=\"text-align: right;\">\n",
              "      <th></th>\n",
              "      <th>SeriousDlqin2yrs</th>\n",
              "      <th>age</th>\n",
              "      <th>NumberOfTime30-59DaysPastDueNotWorse</th>\n",
              "      <th>DebtRatio</th>\n",
              "      <th>NumberOfTimes90DaysLate</th>\n",
              "      <th>NumberOfTime60-89DaysPastDueNotWorse</th>\n",
              "      <th>MonthlyIncome</th>\n",
              "      <th>NumberOfDependents</th>\n",
              "    </tr>\n",
              "  </thead>\n",
              "  <tbody>\n",
              "    <tr>\n",
              "      <th>0</th>\n",
              "      <td>0</td>\n",
              "      <td>64</td>\n",
              "      <td>0</td>\n",
              "      <td>0.249908</td>\n",
              "      <td>0</td>\n",
              "      <td>0</td>\n",
              "      <td>8158.0</td>\n",
              "      <td>0.0</td>\n",
              "    </tr>\n",
              "    <tr>\n",
              "      <th>1</th>\n",
              "      <td>0</td>\n",
              "      <td>58</td>\n",
              "      <td>0</td>\n",
              "      <td>3870.000000</td>\n",
              "      <td>0</td>\n",
              "      <td>0</td>\n",
              "      <td>NaN</td>\n",
              "      <td>0.0</td>\n",
              "    </tr>\n",
              "    <tr>\n",
              "      <th>2</th>\n",
              "      <td>0</td>\n",
              "      <td>41</td>\n",
              "      <td>0</td>\n",
              "      <td>0.456127</td>\n",
              "      <td>0</td>\n",
              "      <td>0</td>\n",
              "      <td>6666.0</td>\n",
              "      <td>0.0</td>\n",
              "    </tr>\n",
              "    <tr>\n",
              "      <th>3</th>\n",
              "      <td>0</td>\n",
              "      <td>43</td>\n",
              "      <td>0</td>\n",
              "      <td>0.000190</td>\n",
              "      <td>0</td>\n",
              "      <td>0</td>\n",
              "      <td>10500.0</td>\n",
              "      <td>2.0</td>\n",
              "    </tr>\n",
              "    <tr>\n",
              "      <th>4</th>\n",
              "      <td>1</td>\n",
              "      <td>49</td>\n",
              "      <td>0</td>\n",
              "      <td>0.271820</td>\n",
              "      <td>0</td>\n",
              "      <td>0</td>\n",
              "      <td>400.0</td>\n",
              "      <td>0.0</td>\n",
              "    </tr>\n",
              "  </tbody>\n",
              "</table>\n",
              "</div>\n",
              "      <button class=\"colab-df-convert\" onclick=\"convertToInteractive('df-5162dec6-f056-4750-b05a-325180aa8d43')\"\n",
              "              title=\"Convert this dataframe to an interactive table.\"\n",
              "              style=\"display:none;\">\n",
              "        \n",
              "  <svg xmlns=\"http://www.w3.org/2000/svg\" height=\"24px\"viewBox=\"0 0 24 24\"\n",
              "       width=\"24px\">\n",
              "    <path d=\"M0 0h24v24H0V0z\" fill=\"none\"/>\n",
              "    <path d=\"M18.56 5.44l.94 2.06.94-2.06 2.06-.94-2.06-.94-.94-2.06-.94 2.06-2.06.94zm-11 1L8.5 8.5l.94-2.06 2.06-.94-2.06-.94L8.5 2.5l-.94 2.06-2.06.94zm10 10l.94 2.06.94-2.06 2.06-.94-2.06-.94-.94-2.06-.94 2.06-2.06.94z\"/><path d=\"M17.41 7.96l-1.37-1.37c-.4-.4-.92-.59-1.43-.59-.52 0-1.04.2-1.43.59L10.3 9.45l-7.72 7.72c-.78.78-.78 2.05 0 2.83L4 21.41c.39.39.9.59 1.41.59.51 0 1.02-.2 1.41-.59l7.78-7.78 2.81-2.81c.8-.78.8-2.07 0-2.86zM5.41 20L4 18.59l7.72-7.72 1.47 1.35L5.41 20z\"/>\n",
              "  </svg>\n",
              "      </button>\n",
              "      \n",
              "  <style>\n",
              "    .colab-df-container {\n",
              "      display:flex;\n",
              "      flex-wrap:wrap;\n",
              "      gap: 12px;\n",
              "    }\n",
              "\n",
              "    .colab-df-convert {\n",
              "      background-color: #E8F0FE;\n",
              "      border: none;\n",
              "      border-radius: 50%;\n",
              "      cursor: pointer;\n",
              "      display: none;\n",
              "      fill: #1967D2;\n",
              "      height: 32px;\n",
              "      padding: 0 0 0 0;\n",
              "      width: 32px;\n",
              "    }\n",
              "\n",
              "    .colab-df-convert:hover {\n",
              "      background-color: #E2EBFA;\n",
              "      box-shadow: 0px 1px 2px rgba(60, 64, 67, 0.3), 0px 1px 3px 1px rgba(60, 64, 67, 0.15);\n",
              "      fill: #174EA6;\n",
              "    }\n",
              "\n",
              "    [theme=dark] .colab-df-convert {\n",
              "      background-color: #3B4455;\n",
              "      fill: #D2E3FC;\n",
              "    }\n",
              "\n",
              "    [theme=dark] .colab-df-convert:hover {\n",
              "      background-color: #434B5C;\n",
              "      box-shadow: 0px 1px 3px 1px rgba(0, 0, 0, 0.15);\n",
              "      filter: drop-shadow(0px 1px 2px rgba(0, 0, 0, 0.3));\n",
              "      fill: #FFFFFF;\n",
              "    }\n",
              "  </style>\n",
              "\n",
              "      <script>\n",
              "        const buttonEl =\n",
              "          document.querySelector('#df-5162dec6-f056-4750-b05a-325180aa8d43 button.colab-df-convert');\n",
              "        buttonEl.style.display =\n",
              "          google.colab.kernel.accessAllowed ? 'block' : 'none';\n",
              "\n",
              "        async function convertToInteractive(key) {\n",
              "          const element = document.querySelector('#df-5162dec6-f056-4750-b05a-325180aa8d43');\n",
              "          const dataTable =\n",
              "            await google.colab.kernel.invokeFunction('convertToInteractive',\n",
              "                                                     [key], {});\n",
              "          if (!dataTable) return;\n",
              "\n",
              "          const docLinkHtml = 'Like what you see? Visit the ' +\n",
              "            '<a target=\"_blank\" href=https://colab.research.google.com/notebooks/data_table.ipynb>data table notebook</a>'\n",
              "            + ' to learn more about interactive tables.';\n",
              "          element.innerHTML = '';\n",
              "          dataTable['output_type'] = 'display_data';\n",
              "          await google.colab.output.renderOutput(dataTable, element);\n",
              "          const docLink = document.createElement('div');\n",
              "          docLink.innerHTML = docLinkHtml;\n",
              "          element.appendChild(docLink);\n",
              "        }\n",
              "      </script>\n",
              "    </div>\n",
              "  </div>\n",
              "  "
            ]
          },
          "metadata": {},
          "execution_count": 38
        }
      ],
      "source": [
        "data = pd.read_csv(\"/content/drive/MyDrive/credit_scoring_sample.csv\", sep=';') \n",
        "data.head()"
      ]
    },
    {
      "cell_type": "code",
      "execution_count": 39,
      "metadata": {
        "colab": {
          "base_uri": "https://localhost:8080/"
        },
        "id": "_qiw3JDSI6vL",
        "outputId": "8aae8a6e-32e8-4043-a0d9-df2410408b9e"
      },
      "outputs": [
        {
          "output_type": "execute_result",
          "data": {
            "text/plain": [
              "SeriousDlqin2yrs                          int64\n",
              "age                                       int64\n",
              "NumberOfTime30-59DaysPastDueNotWorse      int64\n",
              "DebtRatio                               float64\n",
              "NumberOfTimes90DaysLate                   int64\n",
              "NumberOfTime60-89DaysPastDueNotWorse      int64\n",
              "MonthlyIncome                           float64\n",
              "NumberOfDependents                      float64\n",
              "dtype: object"
            ]
          },
          "metadata": {},
          "execution_count": 39
        }
      ],
      "source": [
        "## Рассмотрим типы считанных данных\n",
        "data.dtypes"
      ]
    },
    {
      "cell_type": "code",
      "execution_count": 40,
      "metadata": {
        "colab": {
          "base_uri": "https://localhost:8080/",
          "height": 365
        },
        "id": "AwSQ-1QUY5cX",
        "outputId": "11b7857c-cbf9-4456-931e-fed80788ed7e"
      },
      "outputs": [
        {
          "output_type": "stream",
          "name": "stdout",
          "text": [
            "Distribution of target\n"
          ]
        },
        {
          "output_type": "execute_result",
          "data": {
            "text/plain": [
              "0    0.777511\n",
              "1    0.222489\n",
              "Name: SeriousDlqin2yrs, dtype: float64"
            ]
          },
          "metadata": {},
          "execution_count": 40
        },
        {
          "output_type": "display_data",
          "data": {
            "text/plain": [
              "<Figure size 432x288 with 1 Axes>"
            ],
            "image/png": "[encoded data removed]"
          },
          "metadata": {
            "needs_background": "light"
          }
        }
      ],
      "source": [
        "## Посмотрим на распределение классов в зависимой переменной\n",
        "\n",
        "ax = data[\"SeriousDlqin2yrs\"].hist(orientation=\"horizontal\", color=\"red\")\n",
        "ax.set_xlabel(\"number_of_observations\")\n",
        "ax.set_ylabel(\"unique_value\")\n",
        "ax.set_title(\"Target distribution\")\n",
        "\n",
        "print(\"Distribution of target\")\n",
        "data[\"SeriousDlqin2yrs\"].value_counts() / data.shape[0]"
      ]
    },
    {
      "cell_type": "code",
      "execution_count": 41,
      "metadata": {
        "colab": {
          "base_uri": "https://localhost:8080/"
        },
        "id": "NlYwEWznZQ_-",
        "outputId": "fd82065a-1ac6-42c6-e4bb-34a141d5c7bf"
      },
      "outputs": [
        {
          "output_type": "execute_result",
          "data": {
            "text/plain": [
              "['age',\n",
              " 'NumberOfTime30-59DaysPastDueNotWorse',\n",
              " 'DebtRatio',\n",
              " 'NumberOfTimes90DaysLate',\n",
              " 'NumberOfTime60-89DaysPastDueNotWorse',\n",
              " 'MonthlyIncome',\n",
              " 'NumberOfDependents']"
            ]
          },
          "metadata": {},
          "execution_count": 41
        }
      ],
      "source": [
        "## Выберем названия всех признаков из таблицы, кроме прогнозируемого\n",
        "\n",
        "independent_columns_names = data.columns.values\n",
        "independent_columns_names = [x for x in data if x != \"SeriousDlqin2yrs\"]\n",
        "independent_columns_names"
      ]
    },
    {
      "cell_type": "code",
      "execution_count": 42,
      "metadata": {
        "id": "U3-Rn8kbZWPG"
      },
      "outputs": [],
      "source": [
        "## Применяем функцию, заменяющую все NaN значения на медианное значение соответствующего столбца\n",
        "data = data.fillna(data.mean ())"
      ]
    },
    {
      "cell_type": "code",
      "execution_count": 43,
      "metadata": {
        "id": "7a6TwRtzij2A"
      },
      "outputs": [],
      "source": [
        "## Разделяем таргет и признаки\n",
        "X = data[independent_columns_names]\n",
        "y = data[\"SeriousDlqin2yrs\"]"
      ]
    },
    {
      "cell_type": "code",
      "execution_count": 44,
      "metadata": {
        "id": "PGqvFo-PjKL3"
      },
      "outputs": [],
      "source": [
        "from sklearn.linear_model import LogisticRegression\n",
        "from sklearn.model_selection import GridSearchCV, StratifiedKFold\n",
        "\n",
        "# Используем модуль LogisticRegression для построения логистической регрессии.\n",
        "# Из-за несбалансированности классов  в таргете добавляем параметр балансировки.\n",
        "# Используем также параметр random_state=5 для воспроизводимости результатов\n",
        "lr = LogisticRegression(random_state=5, class_weight=\"balanced\")\n",
        "\n",
        "# Попробуем подобрать лучший коэффициент регуляризации (коэффициент C в логистической регрессии) для модели лог.регрессии.\n",
        "# Этот параметр необходим для того, чтобы подобрать оптимальную модель, которая не будет переобучена, с одной стороны,\n",
        "# и будет хорошо предсказывать значения таргета, с другой.\n",
        "# Остальные параметры оставляем по умолчанию.\n",
        "parameters = {\"C\": (0.0001, 0.001, 0.01, 0.1, 1, 10)}\n",
        "\n",
        "# Для того, чтобы подобрать коэффициент регуляризации, попробуем для каждого его возможного значения посмотреть\n",
        "# значения roc-auc на стрэтифайд кросс-валидации из 5 фолдов с помощью функции StratifiedKFold\n",
        "\n",
        "skf = StratifiedKFold(n_splits=5, shuffle=True, random_state=5)"
      ]
    },
    {
      "cell_type": "code",
      "execution_count": 45,
      "metadata": {
        "colab": {
          "base_uri": "https://localhost:8080/"
        },
        "id": "Pl2XbbZ8jRT4",
        "outputId": "d3e3031c-cd80-44b3-ed71-1872f0e85b24"
      },
      "outputs": [
        {
          "output_type": "execute_result",
          "data": {
            "text/plain": [
              "LogisticRegression(C=0.1, class_weight='balanced', random_state=5)"
            ]
          },
          "metadata": {},
          "execution_count": 45
        }
      ],
      "source": [
        "# Можно ли считать лучшую модель устойчивой? \n",
        "# (модель считаем устойчивой, если стандартное отклонение на валидации меньше 0.5%) \n",
        "# Cохраните точность лучшей модели, она вам приходится для следующих заданий\n",
        "\n",
        "##GridSearch с метрикой \"roc-auc\" по параметру C\n",
        "\n",
        "grid_search = GridSearchCV(estimator=lr, param_grid=parameters, n_jobs=-1, scoring ='roc_auc', cv=skf)\n",
        "grid_search.fit(X, y)\n",
        "grid_search.best_estimator_\n",
        "#print(grid_search.best_score_, grid_search.best_params_)\n",
        "\n",
        "##grid = GridSearchCV(estimator=lr, cv=skf, param_grid=parameters, n_jobs=-1, scoring='roc_auc')\n",
        "##grid.fit(X, y)\n",
        "##print(grid.best_score_, grid.best_params_)"
      ]
    },
    {
      "cell_type": "code",
      "execution_count": 46,
      "metadata": {
        "colab": {
          "base_uri": "https://localhost:8080/"
        },
        "id": "ss4m-hF8_eai",
        "outputId": "b29832ed-788e-48fd-d802-79f6d7cbdae0"
      },
      "outputs": [
        {
          "output_type": "execute_result",
          "data": {
            "text/plain": [
              "0.004942080537552175"
            ]
          },
          "metadata": {},
          "execution_count": 46
        }
      ],
      "source": [
        "grid_search.cv_results_['std_test_score'][1]"
      ]
    },
    {
      "cell_type": "code",
      "execution_count": 47,
      "metadata": {
        "colab": {
          "base_uri": "https://localhost:8080/"
        },
        "id": "pZBjBSfRBx2v",
        "outputId": "7d027326-cf4f-4741-d8db-50637029bae0"
      },
      "outputs": [
        {
          "output_type": "execute_result",
          "data": {
            "text/plain": [
              "0.8092635905321993"
            ]
          },
          "metadata": {},
          "execution_count": 47
        }
      ],
      "source": [
        "grid_search.best_score_"
      ]
    },
    {
      "cell_type": "markdown",
      "metadata": {
        "id": "uzUFB1_vDqHe"
      },
      "source": [
        "### 3.1 Определение влияния признаков (5 баллов)"
      ]
    },
    {
      "cell_type": "markdown",
      "metadata": {
        "id": "GH-D46e5DwH-"
      },
      "source": [
        "Определите самый важный признак. Важность признака определяется абсолютным значением его коэффициента. Так же нужно нормализировать все признаки, что бы можно их было корректно сравнить."
      ]
    },
    {
      "cell_type": "code",
      "execution_count": 48,
      "metadata": {
        "colab": {
          "base_uri": "https://localhost:8080/",
          "height": 269
        },
        "id": "QvBlHh84D1sk",
        "outputId": "93a7f9ba-87dd-4cb9-d4cd-3029a8c2d52d"
      },
      "outputs": [
        {
          "output_type": "execute_result",
          "data": {
            "text/plain": [
              "                                   feat      coef\n",
              "1  NumberOfTime30-59DaysPastDueNotWorse  0.723637\n",
              "3               NumberOfTimes90DaysLate  0.516969\n",
              "4  NumberOfTime60-89DaysPastDueNotWorse  0.193643\n",
              "6                    NumberOfDependents  0.097325\n",
              "2                             DebtRatio -0.021279\n",
              "5                         MonthlyIncome -0.167304\n",
              "0                                   age -0.417094"
            ],
            "text/html": [
              "\n",
              "  <div id=\"df-7cad193f-8143-4f33-85d9-6d9619e685a7\">\n",
              "    <div class=\"colab-df-container\">\n",
              "      <div>\n",
              "<style scoped>\n",
              "    .dataframe tbody tr th:only-of-type {\n",
              "        vertical-align: middle;\n",
              "    }\n",
              "\n",
              "    .dataframe tbody tr th {\n",
              "        vertical-align: top;\n",
              "    }\n",
              "\n",
              "    .dataframe thead th {\n",
              "        text-align: right;\n",
              "    }\n",
              "</style>\n",
              "<table border=\"1\" class=\"dataframe\">\n",
              "  <thead>\n",
              "    <tr style=\"text-align: right;\">\n",
              "      <th></th>\n",
              "      <th>feat</th>\n",
              "      <th>coef</th>\n",
              "    </tr>\n",
              "  </thead>\n",
              "  <tbody>\n",
              "    <tr>\n",
              "      <th>1</th>\n",
              "      <td>NumberOfTime30-59DaysPastDueNotWorse</td>\n",
              "      <td>0.723637</td>\n",
              "    </tr>\n",
              "    <tr>\n",
              "      <th>3</th>\n",
              "      <td>NumberOfTimes90DaysLate</td>\n",
              "      <td>0.516969</td>\n",
              "    </tr>\n",
              "    <tr>\n",
              "      <th>4</th>\n",
              "      <td>NumberOfTime60-89DaysPastDueNotWorse</td>\n",
              "      <td>0.193643</td>\n",
              "    </tr>\n",
              "    <tr>\n",
              "      <th>6</th>\n",
              "      <td>NumberOfDependents</td>\n",
              "      <td>0.097325</td>\n",
              "    </tr>\n",
              "    <tr>\n",
              "      <th>2</th>\n",
              "      <td>DebtRatio</td>\n",
              "      <td>-0.021279</td>\n",
              "    </tr>\n",
              "    <tr>\n",
              "      <th>5</th>\n",
              "      <td>MonthlyIncome</td>\n",
              "      <td>-0.167304</td>\n",
              "    </tr>\n",
              "    <tr>\n",
              "      <th>0</th>\n",
              "      <td>age</td>\n",
              "      <td>-0.417094</td>\n",
              "    </tr>\n",
              "  </tbody>\n",
              "</table>\n",
              "</div>\n",
              "      <button class=\"colab-df-convert\" onclick=\"convertToInteractive('df-7cad193f-8143-4f33-85d9-6d9619e685a7')\"\n",
              "              title=\"Convert this dataframe to an interactive table.\"\n",
              "              style=\"display:none;\">\n",
              "        \n",
              "  <svg xmlns=\"http://www.w3.org/2000/svg\" height=\"24px\"viewBox=\"0 0 24 24\"\n",
              "       width=\"24px\">\n",
              "    <path d=\"M0 0h24v24H0V0z\" fill=\"none\"/>\n",
              "    <path d=\"M18.56 5.44l.94 2.06.94-2.06 2.06-.94-2.06-.94-.94-2.06-.94 2.06-2.06.94zm-11 1L8.5 8.5l.94-2.06 2.06-.94-2.06-.94L8.5 2.5l-.94 2.06-2.06.94zm10 10l.94 2.06.94-2.06 2.06-.94-2.06-.94-.94-2.06-.94 2.06-2.06.94z\"/><path d=\"M17.41 7.96l-1.37-1.37c-.4-.4-.92-.59-1.43-.59-.52 0-1.04.2-1.43.59L10.3 9.45l-7.72 7.72c-.78.78-.78 2.05 0 2.83L4 21.41c.39.39.9.59 1.41.59.51 0 1.02-.2 1.41-.59l7.78-7.78 2.81-2.81c.8-.78.8-2.07 0-2.86zM5.41 20L4 18.59l7.72-7.72 1.47 1.35L5.41 20z\"/>\n",
              "  </svg>\n",
              "      </button>\n",
              "      \n",
              "  <style>\n",
              "    .colab-df-container {\n",
              "      display:flex;\n",
              "      flex-wrap:wrap;\n",
              "      gap: 12px;\n",
              "    }\n",
              "\n",
              "    .colab-df-convert {\n",
              "      background-color: #E8F0FE;\n",
              "      border: none;\n",
              "      border-radius: 50%;\n",
              "      cursor: pointer;\n",
              "      display: none;\n",
              "      fill: #1967D2;\n",
              "      height: 32px;\n",
              "      padding: 0 0 0 0;\n",
              "      width: 32px;\n",
              "    }\n",
              "\n",
              "    .colab-df-convert:hover {\n",
              "      background-color: #E2EBFA;\n",
              "      box-shadow: 0px 1px 2px rgba(60, 64, 67, 0.3), 0px 1px 3px 1px rgba(60, 64, 67, 0.15);\n",
              "      fill: #174EA6;\n",
              "    }\n",
              "\n",
              "    [theme=dark] .colab-df-convert {\n",
              "      background-color: #3B4455;\n",
              "      fill: #D2E3FC;\n",
              "    }\n",
              "\n",
              "    [theme=dark] .colab-df-convert:hover {\n",
              "      background-color: #434B5C;\n",
              "      box-shadow: 0px 1px 3px 1px rgba(0, 0, 0, 0.15);\n",
              "      filter: drop-shadow(0px 1px 2px rgba(0, 0, 0, 0.3));\n",
              "      fill: #FFFFFF;\n",
              "    }\n",
              "  </style>\n",
              "\n",
              "      <script>\n",
              "        const buttonEl =\n",
              "          document.querySelector('#df-7cad193f-8143-4f33-85d9-6d9619e685a7 button.colab-df-convert');\n",
              "        buttonEl.style.display =\n",
              "          google.colab.kernel.accessAllowed ? 'block' : 'none';\n",
              "\n",
              "        async function convertToInteractive(key) {\n",
              "          const element = document.querySelector('#df-7cad193f-8143-4f33-85d9-6d9619e685a7');\n",
              "          const dataTable =\n",
              "            await google.colab.kernel.invokeFunction('convertToInteractive',\n",
              "                                                     [key], {});\n",
              "          if (!dataTable) return;\n",
              "\n",
              "          const docLinkHtml = 'Like what you see? Visit the ' +\n",
              "            '<a target=\"_blank\" href=https://colab.research.google.com/notebooks/data_table.ipynb>data table notebook</a>'\n",
              "            + ' to learn more about interactive tables.';\n",
              "          element.innerHTML = '';\n",
              "          dataTable['output_type'] = 'display_data';\n",
              "          await google.colab.output.renderOutput(dataTable, element);\n",
              "          const docLink = document.createElement('div');\n",
              "          docLink.innerHTML = docLinkHtml;\n",
              "          element.appendChild(docLink);\n",
              "        }\n",
              "      </script>\n",
              "    </div>\n",
              "  </div>\n",
              "  "
            ]
          },
          "metadata": {},
          "execution_count": 48
        }
      ],
      "source": [
        "from sklearn.preprocessing import StandardScaler\n",
        "lr = LogisticRegression(C=0.001,random_state=5, class_weight= 'balanced')\n",
        "scal = StandardScaler()\n",
        "lr.fit(scal.fit_transform(X), y)\n",
        "\n",
        "pd.DataFrame({'feat': independent_columns_names,\n",
        "              'coef': lr.coef_.flatten().tolist()}).sort_values(by='coef', ascending=False)"
      ]
    },
    {
      "cell_type": "markdown",
      "metadata": {
        "id": "NWq_jVdHii87"
      },
      "source": [
        "Ответ: самый важный признак - это Number Of Time 30-59 Days Past Due Not Worse"
      ]
    },
    {
      "cell_type": "code",
      "execution_count": 49,
      "metadata": {
        "colab": {
          "base_uri": "https://localhost:8080/"
        },
        "id": "brvHOcQwiuYS",
        "outputId": "3d550319-9069-4725-88bc-633bb7c95f4b"
      },
      "outputs": [
        {
          "output_type": "stream",
          "name": "stdout",
          "text": [
            "[[0.07717427 0.24148258 0.11464963 0.19639513 0.14213868 0.09907291\n",
            "  0.1290868 ]]\n"
          ]
        }
      ],
      "source": [
        "from pandas.core.internals.blocks import expressions\n",
        "# Посчитайте долю влияния DebtRatio на предсказание. (Воспользуйтесь функцией softmax)\n",
        "\n",
        "def softmax(x):\n",
        "  \"\"\"Compute softmax values for each sets of scores in x.\"\"\"\n",
        "  exps = np.exp(x - np.max(x))\n",
        "  return exps / exps.sum()\n",
        "print(softmax(lr.coef_))"
      ]
    },
    {
      "cell_type": "code",
      "execution_count": 50,
      "metadata": {
        "id": "jrmYPO_akfbg"
      },
      "outputs": [],
      "source": [
        "from sklearn.ensemble import RandomForestClassifier\n",
        "\n",
        "# Инициализируем случайный лес с 100 деревьями и сбалансированными классами\n",
        "rf = RandomForestClassifier(\n",
        "    n_estimators=100,\n",
        "    n_jobs=-1,\n",
        "    random_state=42,\n",
        "    oob_score=True,\n",
        "    class_weight=\"balanced\",\n",
        ")\n",
        "\n",
        "## Будем искать лучшие параметры среди следующего набора\n",
        "parameters = {\n",
        "    \"max_features\": [1, 2, 4],\n",
        "    \"min_samples_leaf\": [3, 5, 7, 9],\n",
        "    \"max_depth\": [5, 10, 15],\n",
        "}\n",
        "\n",
        "## Делаем опять же k-fold валидацию.\n",
        "skf = StratifiedKFold(n_splits=5, shuffle=True, random_state=5)"
      ]
    },
    {
      "cell_type": "code",
      "execution_count": null,
      "metadata": {
        "id": "HztBmZnSkg4D"
      },
      "outputs": [],
      "source": [
        "# Насколько точность лучшей модели случайного леса выше точности логистической регрессии на валидации?\n",
        "#%%time\n",
        "#gsc = GridSearchCV(estimator=rf, cv=skf, param_grid=parameters, n_jobs=-1, scoring='roc_auc')\n",
        "#gsc.fit(X, y)\n",
        "#print(grid_search.best_score_, grid_search.best_params_)\n",
        "#gsc.best_score_ - grid_search.best_score_"
      ]
    },
    {
      "cell_type": "code",
      "execution_count": 51,
      "metadata": {
        "id": "U4IAiyLtn6m-"
      },
      "outputs": [],
      "source": [
        "gscv = GridSearchCV(estimator=rf, param_grid=parameters, n_jobs=-1, scoring ='roc_auc', cv=skf)\n",
        "#gscv.fit(X, y)\n",
        "#gscv.best_estimator_"
      ]
    },
    {
      "cell_type": "code",
      "execution_count": 52,
      "metadata": {
        "colab": {
          "base_uri": "https://localhost:8080/"
        },
        "id": "loUbzQmhq05u",
        "outputId": "b338af21-203b-41ef-ebae-27c3b22a0fcf"
      },
      "outputs": [
        {
          "output_type": "execute_result",
          "data": {
            "text/plain": [
              "GridSearchCV(cv=StratifiedKFold(n_splits=5, random_state=5, shuffle=True),\n",
              "             estimator=RandomForestClassifier(class_weight='balanced',\n",
              "                                              n_jobs=-1, oob_score=True,\n",
              "                                              random_state=42),\n",
              "             n_jobs=-1,\n",
              "             param_grid={'max_depth': [5, 10, 15], 'max_features': [1, 2, 4],\n",
              "                         'min_samples_leaf': [3, 5, 7, 9]},\n",
              "             scoring='roc_auc')"
            ]
          },
          "metadata": {},
          "execution_count": 52
        }
      ],
      "source": [
        "gscv.fit(X, y)"
      ]
    }
  ],
  "metadata": {
    "colab": {
      "provenance": [],
      "authorship_tag": "ABX9TyMitO+Fx8flhHEswW5B+VXa",
      "include_colab_link": true
    },
    "kernelspec": {
      "display_name": "Python 3",
      "name": "python3"
    },
    "language_info": {
      "name": "python"
    }
  },
  "nbformat": 4,
  "nbformat_minor": 0
}